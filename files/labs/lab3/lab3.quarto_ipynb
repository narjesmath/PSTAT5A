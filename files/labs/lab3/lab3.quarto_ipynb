{
  "cells": [
    {
      "cell_type": "markdown",
      "metadata": {},
      "source": [
        "---\n",
        "title: \"Lab 3: Descriptive Statistics\"\n",
        "subtitle: \"PSTAT 5A - Summer Session A 2025\"\n",
        "author: \"Instructor: Narjes Mathlouthi\"\n",
        "format: \n",
        "  html:\n",
        "    toc: true\n",
        "    toc-depth: 3\n",
        "    logo: /img/logo.png\n",
        "    footer: \"Descriptive Statistics - Lab3 © 2025 Narjes Mathlouthi\"\n",
        "    number-sections: false\n",
        "    code-fold: false\n",
        "    theme: cosmo\n",
        "    css: /files/lecture_notes/theme/lecture-styles.css\n",
        "date: today\n",
        "jupyter: python3\n",
        "---\n",
        "\n",
        "::: {.column-margin}\n",
        "![](/img/logo.png){width=100px}\n",
        ":::\n",
        "\n",
        "It's finally time for us to revisit our notions of descriptive statistics (from Week 1 of the course), now in the context of Python!\n",
        "\n",
        "# Modules, Revisited\n",
        "\n",
        "::: {.time-box}\n",
        "⏱️ **Estimated time:** 5 minutes\n",
        ":::\n",
        "\n",
        "Before we talk about plotting, we will need to quickly talk about modules again. Recall from Lab1 that **modules** are Python files containing definitions for functions and classes. Up until now, we've been importing all functions and classes from a module using the command"
      ],
      "id": "7bba4d38"
    },
    {
      "cell_type": "code",
      "metadata": {},
      "source": [
        "#| eval: false\n",
        "from <module name> import *"
      ],
      "id": "71c178b9",
      "execution_count": null,
      "outputs": []
    },
    {
      "cell_type": "markdown",
      "metadata": {},
      "source": [
        "There is another way to import modules, which is the following:"
      ],
      "id": "b32f5629"
    },
    {
      "cell_type": "code",
      "metadata": {},
      "source": [
        "#| eval: false\n",
        "import <module name> as <abbreviation>"
      ],
      "id": "59f7feb5",
      "execution_count": null,
      "outputs": []
    },
    {
      "cell_type": "markdown",
      "metadata": {},
      "source": [
        "For example,"
      ],
      "id": "375e74a0"
    },
    {
      "cell_type": "code",
      "metadata": {},
      "source": [
        "import numpy as np"
      ],
      "id": "f0d1c387",
      "execution_count": null,
      "outputs": []
    },
    {
      "cell_type": "markdown",
      "metadata": {},
      "source": [
        "not only imports the `numpy` module but imports it with the abbreviation (i.e. nickname) `np` so that we can simply write `np` in place of `numpy`every time.\n",
        "\n",
        "For example, to compute the mean of a list of numbers `1,2,3`, we can simply call the `numpy` mean function `np.mean()`.\n",
        "\n",
        "Here, we first create a generic list and call it `a`. We use the function [`np.array()`](https://numpy.org/doc/stable/reference/generated/numpy.array.html) to create an array of our chosen numbers. Then, we can use the function `np.mean()` to compute the mean of array we created.\n",
        "\n",
        "Each time, we call a function from the `numpy` module we use `np` as shown below:"
      ],
      "id": "ab51a5fb"
    },
    {
      "cell_type": "code",
      "metadata": {},
      "source": [
        "a = np.array([1, 2, 3])\n",
        "print(np.mean(a))   "
      ],
      "id": "b7823b5b",
      "execution_count": null,
      "outputs": []
    },
    {
      "cell_type": "markdown",
      "metadata": {},
      "source": [
        "The reason this is particularly useful is because module names can sometimes be quite long, so being able to refer to the module with a shortened nickname will save a lot of time!\n",
        "\n",
        "In general, if we import a module using"
      ],
      "id": "a84e74dc"
    },
    {
      "cell_type": "code",
      "metadata": {},
      "source": [
        "#| eval: false\n",
        "\n",
        "import <module name> as <abbreviation>"
      ],
      "id": "0d757ec5",
      "execution_count": null,
      "outputs": []
    },
    {
      "cell_type": "markdown",
      "metadata": {},
      "source": [
        "we reference functions from `<module name>` using the syntax"
      ],
      "id": "96712515"
    },
    {
      "cell_type": "code",
      "metadata": {},
      "source": [
        "#| eval: false\n",
        "\n",
        "<abbreviation>.<function name>()"
      ],
      "id": "65ce0907",
      "execution_count": null,
      "outputs": []
    },
    {
      "cell_type": "markdown",
      "metadata": {},
      "source": [
        "For example, after having imported the `numpy` module with the short name `np`, we access the `sin()` function contained in the `numpy` module by calling"
      ],
      "id": "c259807d"
    },
    {
      "cell_type": "code",
      "metadata": {},
      "source": [
        "#| eval: false\n",
        "\n",
        "np.sin()"
      ],
      "id": "d5d08013",
      "execution_count": null,
      "outputs": []
    },
    {
      "cell_type": "markdown",
      "metadata": {},
      "source": [
        "::: {.task-box}\n",
        "## Task 1\n",
        "\n",
        "::: {.time-box}\n",
        "⏱️ **Estimated time:** 3 minutes\n",
        ":::\n",
        "\n",
        "1. Import the `numpy` module as `np`, and check that `np.sin(0)` returns a value of 0.\n",
        "   \n",
        "2. Import the `datascience` module as `ds`, and check that\n"
      ],
      "id": "ae1e6503"
    },
    {
      "cell_type": "code",
      "metadata": {},
      "source": [
        "#| eval: false\n",
        "\n",
        "ds.Table().with_columns(\n",
        "  \"Col1\", [1, 2, 3],\n",
        "  \"Col2\", [2, 3, 4]\n",
        ")"
      ],
      "id": "07c44136",
      "execution_count": null,
      "outputs": []
    },
    {
      "cell_type": "markdown",
      "metadata": {},
      "source": [
        "prints correctly as :"
      ],
      "id": "a9e0d62c"
    },
    {
      "cell_type": "code",
      "metadata": {},
      "source": [
        "#| echo: false\n",
        "import datascience as ds\n",
        "\n",
        "ds.Table().with_columns(\n",
        "  \"Col1\", [1, 2, 3],\n",
        "  \"Col2\", [2, 3, 4]\n",
        ")"
      ],
      "id": "2c2b9192",
      "execution_count": null,
      "outputs": []
    },
    {
      "cell_type": "markdown",
      "metadata": {},
      "source": [
        "::: {.callout-important}\n",
        "If you import a module with an abbreviation `<abbreviation>`, you must always use the abbreviation when referencing the module; not the original module name.\n",
        "For example, after importing `numpy as np`, running `numpy.sin()` would return an **error**.\n",
        ":::\n",
        ":::"
      ],
      "id": "5272fe5e"
    },
    {
      "cell_type": "code",
      "metadata": {},
      "source": [
        "#Your code here"
      ],
      "id": "3192c204",
      "execution_count": null,
      "outputs": []
    },
    {
      "cell_type": "markdown",
      "metadata": {},
      "source": [
        "## Numerical Summaries\n",
        "\n",
        "::: {.section-header}\n",
        "### Measures of Central Tendency\n",
        ":::\n",
        "\n",
        "::: {.time-box}\n",
        "⏱️ **Estimated time:** 5 minutes\n",
        ":::\n",
        "\n",
        "Recall that for a list of numbers ($x_1,x_2,\\ldots, x_n$),\n",
        "$X = \\{ x_i\\}_{i=1}^{n}$​, the mean is defined as\n",
        "\n",
        "::: {.formula-box}\n",
        "$\\bar x= \\frac{1}{n} \\sum_{i=1}^{n} x_i​$\n",
        ":::\n",
        "\n",
        "Computing the mean of a list or array of numbers in Python is relatively simple, using the `np.mean()` function [recall that we imported the `numpy` module with the abbreviation `np`, meaning `np.mean()` is a shorthand for `numpy.mean()`]. Similarly, to compute the median of a list or array we can use `np.median()`.\n",
        "\n",
        "\n",
        "### Understanding Functions and Parameters\n",
        "\n",
        "Before we dive into examples, let's understand what functions are and how they work with parameters. A function is a block of code that performs a specific task. Functions can take **parameters** (also called **arguments**) as input, process them, and return a result.\n",
        "\n",
        "The general syntax for calling a function is:"
      ],
      "id": "82dfd053"
    },
    {
      "cell_type": "code",
      "metadata": {},
      "source": [
        "#| eval: false\n",
        "\n",
        "function_name(parameter1, parameter2, ...)"
      ],
      "id": "f680c969",
      "execution_count": null,
      "outputs": []
    },
    {
      "cell_type": "markdown",
      "metadata": {},
      "source": [
        "For statistical functions like `np.mean()` and `np.median()`, the main parameter is the data (list or array) you want to analyze. You can read more about about each function in the official documentation for the `numpy` module.\n",
        "\n",
        "Here are some examples:\n",
        "\n",
        "#### Example with `np.mean()`:"
      ],
      "id": "52ed76b7"
    },
    {
      "cell_type": "code",
      "metadata": {},
      "source": [
        "# Create a simple list of numbers\n",
        "numbers = [2, 4, 6, 8, 10]\n",
        "\n",
        "# Calculate the mean - the function takes 'numbers' as a parameter\n",
        "\n",
        "average = np.mean(numbers)\n",
        "print(f\"The mean is: {average}\")  # Output: The mean is: 6.0"
      ],
      "id": "e5cb23a7",
      "execution_count": null,
      "outputs": []
    },
    {
      "cell_type": "markdown",
      "metadata": {},
      "source": [
        "#### Example with `np.median()`:"
      ],
      "id": "fdad6498"
    },
    {
      "cell_type": "code",
      "metadata": {},
      "source": [
        "# Using the same list\n",
        "numbers = [2, 4, 6, 8, 10]\n",
        "\n",
        "# Calculate the median - the function takes 'numbers' as a parameter  \n",
        "middle_value = np.median(numbers)\n",
        "print(f\"The median is: {middle_value}\")  # Output: The median is: 6.0\n",
        "\n",
        "# Try with an odd number of elements\n",
        "odd_numbers = [1, 3, 5, 7, 9, 11, 13]\n",
        "median_odd = np.median(odd_numbers)\n",
        "print(f\"The median of odd list is: {median_odd}\")  # Output: The median of odd list is: 7.0"
      ],
      "id": "0c87376b",
      "execution_count": null,
      "outputs": []
    },
    {
      "cell_type": "markdown",
      "metadata": {},
      "source": [
        "Another example with different data:"
      ],
      "id": "26facdff"
    },
    {
      "cell_type": "code",
      "metadata": {},
      "source": [
        "# Example with decimal numbers\n",
        "grades = [85.5, 92.0, 78.5, 96.0, 88.5, 91.0]\n",
        "\n",
        "mean_grade = np.mean(grades)\n",
        "median_grade = np.median(grades)\n",
        "\n",
        "print(f\"Mean grade: {mean_grade:.2f}\")     # Output: Mean grade: 88.58\n",
        "print(f\"Median grade: {median_grade:.2f}\") # Output: Median grade: 89.75"
      ],
      "id": "2cfe823b",
      "execution_count": null,
      "outputs": []
    },
    {
      "cell_type": "markdown",
      "metadata": {},
      "source": [
        "::: {.callout-note}\n",
        "Notice how the functions take our data as a parameter (the input inside the parentheses) and return a calculated value that we can store in a variable or use directly.\n",
        ":::\n",
        "\n",
        "\n",
        "\n",
        "\n",
        "::: {.task-box}\n",
        "## Task 2\n",
        "\n",
        "::: {.time-box}\n",
        "⏱️ **Estimated time:** 3 minutes\n",
        ":::\n",
        "\n",
        "Let `x_list` be a list containing the elements `1, 2, and 3`, and let `x_array` be an array containing the elements `1, 2, and 3`. Compute the mean and median of `x_list` and `x_array` using the appropriate functions from the  `numpy` module.\n",
        ":::"
      ],
      "id": "80f6b09d"
    },
    {
      "cell_type": "code",
      "metadata": {},
      "source": [
        "#Your code here"
      ],
      "id": "d3d9ce1d",
      "execution_count": null,
      "outputs": []
    },
    {
      "cell_type": "markdown",
      "metadata": {},
      "source": [
        "## Measures of Spread\n",
        "\n",
        "::: {.time-box}\n",
        "⏱️ **Estimated time:** 5 minutes\n",
        ":::\n",
        "\n",
        "Recall that we also discussed several measures of spread including:\n",
        "\n",
        "- Standard deviation\n",
        "  \n",
        "- IQR (Interquartile Range)\n",
        "  \n",
        "- Range\n",
        "\n",
        "Sure enough, the `numpy` module contains several functions which help us compute these measures. Let's examine each separately.\n",
        "\n",
        "::: {.task-box}\n",
        "## Task 3\n",
        "\n",
        "::: {.time-box}\n",
        "⏱️ **Estimated time:** 4 minutes\n",
        ":::\n",
        "\n",
        "Look up the documentation of the function [`np.ptp()`](https://numpy.org/doc/stable/reference/generated/numpy.ptp.html), and describe what it does. Also, answer the question: **Q: what does ptp actually stand for?**\n",
        "\n",
        "Now, apply the `np.ptp()` function on your `x_list` and `x_array` variables from **Task 1** above and check that it functions like you expect.\n",
        ":::\n",
        "\n",
        "```{Markdown}\n",
        "# Your answer here\n",
        "\n",
        "```"
      ],
      "id": "b2cd3ebf"
    },
    {
      "cell_type": "code",
      "metadata": {},
      "source": [
        "#Your code here"
      ],
      "id": "e8485c42",
      "execution_count": null,
      "outputs": []
    },
    {
      "cell_type": "markdown",
      "metadata": {},
      "source": [
        "Next, we tackle a slightly peculiar function: [`np.std()`](https://numpy.org/doc/stable/reference/generated/numpy.std.html). We expect this to compute the standard deviation of a list/array, but…\n",
        "\n",
        "\n",
        "\n",
        "::: {.task-box}\n",
        "## Task 4\n",
        "\n",
        "::: {.time-box}\n",
        "⏱️ **Estimated time:** 6 minutes\n",
        ":::\n",
        "\n",
        "Compute the standard deviation $s$ of the `x_list` variable from **Task 1** by hand, and write down the answer using a comment or Markdown cell.\n",
        "\n",
        "Now, run `np.std(x_list)`. Does this answer agree with what you found in **part (a)** above?\n",
        "\n",
        "Now, recompute the standard deviation $s$ of `x_list` by hand but this time use **n** instead of **n−1**\n",
        "in the formula. How does this answer compare with the result of\n",
        "`np.std(x_list)`?\n",
        ":::"
      ],
      "id": "5960d69c"
    },
    {
      "cell_type": "code",
      "metadata": {},
      "source": [
        "#Your code here"
      ],
      "id": "03562ae9",
      "execution_count": null,
      "outputs": []
    },
    {
      "cell_type": "markdown",
      "metadata": {},
      "source": [
        "The result of the previous Task is the following: given a `list x = [$x_1, x_2, ..., x_n$]`, running `np.std(x)` actually computes the **population standard deviation**\n",
        "$\\sigma$.\n",
        "\n",
        "::: {.formula-box}\n",
        "$$\n",
        "\\sigma = \\sqrt{\\frac{1}{N} \\sum_{i=1}^{n}(x_i- \\bar x)^2}\n",
        "$$\n",
        ":::\n",
        "\n",
        "\n",
        "as opposed to the **sample standard deviation**\n",
        "\n",
        "::: {.formula-box}\n",
        "$$\n",
        "s = \\sqrt{\\frac{1}{n-1} \\sum_{i=1}^{n}(x_i- \\bar x)^2}\n",
        "$$\n",
        ":::\n",
        "\n",
        "As we have mentioned above, functions take on parameters (or arguments). Some parameters are **required** while others are **optional** and left to the user to specify. When using [`np.std()`](https://numpy.org/doc/stable/reference/generated/numpy.std.html), the function takes on the following params:\n",
        "\n",
        "`numpy.std(a, axis=None, dtype=None, out=None, ddof=0, keepdims=<no value>, *, where=<no value>, mean=<no value>, correction=<no value>)`\n",
        "\n",
        "where,\n",
        "\n",
        "`ddof{int, float}`, is an optional parameter that takes integers and floats.\n",
        "It represents the Means Delta Degrees of Freedom. The divisor used in calculations is `N - ddof`, where `N` represents the number of elements. **By default ddof is zero**. \n",
        "\n",
        "::: {.task-box}\n",
        "## Task 4 (cont'd)\n",
        "\n",
        "::: {.time-box}\n",
        "⏱️ **Estimated time:** 2 minutes\n",
        ":::\n",
        "\n",
        "Run `np.std(x_list, ddof = 1)` and check whether this matches the result of **part (a)** above.\n",
        ":::\n",
        "\n",
        "::: {.callout-note}\n",
        "To compute the standard deviation of a list x, we run `np.std(x, ddof = 1)` when working with sampled data unless otherwise specified that your source of data is representative of the population.\n",
        ":::"
      ],
      "id": "a4ba8582"
    },
    {
      "cell_type": "code",
      "metadata": {},
      "source": [
        "# Your code here"
      ],
      "id": "ae59b689",
      "execution_count": null,
      "outputs": []
    },
    {
      "cell_type": "markdown",
      "metadata": {},
      "source": [
        "Finally, we turn to the Interquartile Range (IQR): to compute the IQR of a list/array $x$, we use (after `importing numpy as np`)"
      ],
      "id": "b5cac411"
    },
    {
      "cell_type": "code",
      "metadata": {},
      "source": [
        "#| eval: false\n",
        "np.diff(np.percentile(x, [25,75]))[0]"
      ],
      "id": "9e30d362",
      "execution_count": null,
      "outputs": []
    },
    {
      "cell_type": "markdown",
      "metadata": {},
      "source": [
        "::: {.task-box}\n",
        "## Optional Task: Creating Your Own IQR Function\n",
        "\n",
        "::: {.time-box}\n",
        "⏱️ **Estimated time:** 3 minutes\n",
        ":::\n",
        "\n",
        "Now that you understand how to use functions and their parameters, let's create our own custom function to calculate the IQR! This will help you understand how to define your own functions in Python.\n",
        "\n",
        "**1. Understanding Function Definition Syntax**\n",
        "\n",
        "To create a function in Python, we use the `def` keyword followed by the function name and parameters:"
      ],
      "id": "c05b8739"
    },
    {
      "cell_type": "code",
      "metadata": {},
      "source": [
        "#| eval: false\n",
        "\n",
        "def function_name(parameter1, parameter2):\n",
        "    # Code that does something with the parameters\n",
        "    result = some_calculation\n",
        "    return result  # Give back the calculated value"
      ],
      "id": "e477d5a9",
      "execution_count": null,
      "outputs": []
    },
    {
      "cell_type": "markdown",
      "metadata": {},
      "source": [
        "**2. Create the IQR Function**\n",
        "\n",
        "Let's create a function called `calculate_iqr` that takes a list or array as input and returns the IQR:"
      ],
      "id": "1936000b"
    },
    {
      "cell_type": "code",
      "metadata": {},
      "source": [
        "def calculate_iqr(data):\n",
        "    \"\"\"\n",
        "    Calculate the Interquartile Range (IQR) of a dataset.\n",
        "    \n",
        "    Parameter:\n",
        "    data - a list or array of numbers\n",
        "    \n",
        "    Returns:\n",
        "    The IQR value (Q3 - Q1)\n",
        "    \"\"\"\n",
        "    # Calculate the IQR using the numpy method we learned\n",
        "    iqr_value = np.diff(np.percentile(data, [25, 75]))[0]\n",
        "    return iqr_value"
      ],
      "id": "cc46e822",
      "execution_count": null,
      "outputs": []
    },
    {
      "cell_type": "markdown",
      "metadata": {},
      "source": [
        "**3. Test Your Function**\n",
        "\n",
        "Now let's test our custom function with some example data:"
      ],
      "id": "6fbfef36"
    },
    {
      "cell_type": "code",
      "metadata": {},
      "source": [
        "#| eval: false\n",
        "\n",
        "# Create some test data\n",
        "# Example - test_scores = [72, 85, 90, 78, 92, 88, 76, 94, 82, 89, 91, 77]\n",
        "\n",
        "# Create your data\n",
        "test_scores = [ ]\n",
        "\n",
        "# Use our custom function\n",
        "my_iqr = calculate_iqr( ) # Call the function created above here \n",
        "\n",
        "print(f\"IQR using our function: {my_iqr}\")\n",
        "\n",
        "# Compare with the direct method\n",
        "direct_iqr = np.diff(np.percentile(test_scores, [25, 75]))[0]\n",
        "print(f\"IQR using direct method: {direct_iqr}\")\n",
        "\n",
        "# They should be the same!"
      ],
      "id": "14432291",
      "execution_count": null,
      "outputs": []
    },
    {
      "cell_type": "markdown",
      "metadata": {},
      "source": [
        ":::"
      ],
      "id": "bb0b13ef"
    },
    {
      "cell_type": "code",
      "metadata": {},
      "source": [
        "# Your code here"
      ],
      "id": "8465f6f3",
      "execution_count": null,
      "outputs": []
    },
    {
      "cell_type": "markdown",
      "metadata": {},
      "source": [
        "## Visualizations\n",
        "\n",
        "::: {.time-box}\n",
        "⏱️ **Estimated time:** 3 minutes\n",
        ":::\n",
        "\n",
        "It's finally time to make pretty plots! The module we will use to generate visualizations is the `matplotlib` module (though there are quite a few other modules that work for visualizations as well). The official website for `matplotlib` can be found at https://matplotlib.org/.\n",
        "\n",
        "Before we generate any plots, we will need to run the following code once:"
      ],
      "id": "727da000"
    },
    {
      "cell_type": "code",
      "metadata": {},
      "source": [
        "%matplotlib inline\n",
        "import matplotlib\n",
        "import matplotlib.pyplot as plt\n",
        "plt.style.use('seaborn-v0_8-whitegrid')"
      ],
      "id": "1f570503",
      "execution_count": null,
      "outputs": []
    },
    {
      "cell_type": "markdown",
      "metadata": {},
      "source": [
        "Here's what these lines of code are doing:\n",
        "\n",
        "- `%matplotlib` inline tells Jupyter to display our plots directly underneath our code. It removes the need to use `plt.show()`.\n",
        "  \n",
        "- `import matplotlib` imports the `matplotlib` module\n",
        "\n",
        "- `import matplotlib.pyplot as plt` imports the `pyplot` submodule (a submodule is just a module contained within another larger module) with the abbreviation `plt`.\n",
        "\n",
        "\n",
        "- `plt.style.use('seaborn-v0_8-whitegrid')` tells Jupyter to use a specific theme (called `seaborn-v0_8-whitegrid`) when generating plots.\n",
        "\n",
        "::: {.callout-note}\n",
        "Again, notice the beauty of the `import <module> as <abbreviation>` syntax.\n",
        "\n",
        "- after running the third line above, we no longer need to write `matplotlib.pyplot` in our code, we just use `plt`to call the module! \n",
        ":::\n",
        "\n",
        "Also, there are lots of other themes you can use when generating your plots: after completing this lab, I encourage you to consult this [reference](https://matplotlib.org/stable/gallery/style_sheets/style_sheets_reference.html) guide for a list of a few other pyplot themes.\n",
        "\n",
        "\n",
        "### Boxplots and Histograms\n",
        "\n",
        "Now, let's proceed on to make some plots. The first two types of plots we will look at are the two we used to describe **numerical data**: namely, `boxplots` and `histograms`. \n",
        "\n",
        "The functions we will use are the `plt.boxplot()` and `plt.hist()` functions, respectively.\n",
        "\n",
        "::: {.task-box}\n",
        "## Task 5\n",
        "\n",
        "::: {.time-box}\n",
        "⏱️ **Estimated time:** 6 minutes\n",
        ":::\n",
        "\n",
        "1. Make a list called `y` that contains the following elements: `[1, 2, 3, 4, 5, 4, 3, 5, 4, 1, 2]`.\n",
        "\n",
        "2. Run `plt.boxplot(y);` (**be sure to include the semicolon!**). Your plot should look like a basic vertical boxplot."
      ],
      "id": "f37f8213"
    },
    {
      "cell_type": "code",
      "metadata": {},
      "source": [
        "#| echo: false\n",
        "%matplotlib inline\n",
        "import matplotlib\n",
        "import matplotlib.pyplot as plt\n",
        "plt.style.use('seaborn-v0_8-whitegrid')\n",
        "\n",
        "\n",
        "# Step 1: Create the list y\n",
        "y = [1, 2, 3, 4, 5, 4, 3, 5, 4, 1, 2]\n",
        "\n",
        "# Step 2: Create a basic vertical boxplot\n",
        "plt.boxplot(y);\n",
        "#plt.show()  # This displays the plot"
      ],
      "id": "79e7dee1",
      "execution_count": null,
      "outputs": []
    },
    {
      "cell_type": "markdown",
      "metadata": {},
      "source": [
        "Let's make our boxplot *horizontal*, as opposed to *vertical*. \n",
        "\n",
        "::: {.callout-tip}\n",
        "Recall, that functions take on parameters (or arguments). For detailed list or arguments that can be passed on to `plt.boxplot`, consult the function documentation[`matplotlib.pyplot.boxplot()`](https://matplotlib.org/stable/api/_as_gen/matplotlib.pyplot.boxplot.html).\n",
        ":::\n",
        "\n",
        "For `plt.boxplot()`, there is an optional param called `orientation`. It accepts the values \"vertical\" or \"horizental\" with \" vertical\" being the default.\n",
        "\n",
        "To use in your pyton code, you can simply add `,` after your data and add `orientation =' '` . Inside `\" \"` specify the desired direction and close the parenthesis."
      ],
      "id": "d61e347c"
    },
    {
      "cell_type": "code",
      "metadata": {},
      "source": [
        "#| echo: false\n",
        "\n",
        "import matplotlib.pyplot as plt\n",
        "\n",
        "# Step 1: Create the list y\n",
        "y = [1, 2, 3, 4, 5, 4, 3, 5, 4, 1, 2]\n",
        "\n",
        "# Step 2: Create a horizontal boxplot\n",
        "plt.boxplot(y, orientation ='horizontal');\n",
        "plt.show()"
      ],
      "id": "b393eaad",
      "execution_count": null,
      "outputs": []
    },
    {
      "cell_type": "markdown",
      "metadata": {},
      "source": [
        "Next, let's add some color to our plot. Within your call to `plt.boxplot()`, after your data and orientation param, add a semicolon `,` to seperate the parameters and add the following: `patch_artist=True`, `boxprops = dict(facecolor = \"aquamarine\")` . Your boxplot should look like this:"
      ],
      "id": "581ee040"
    },
    {
      "cell_type": "code",
      "metadata": {},
      "source": [
        "#| echo: false\n",
        "\n",
        "import matplotlib.pyplot as plt\n",
        "\n",
        "# Step 1: Create the list y\n",
        "y = [1, 2, 3, 4, 5, 4, 3, 5, 4, 1, 2]\n",
        "\n",
        "# Step 2: Create a horizontal boxplot\n",
        "plt.boxplot(y, orientation ='horizontal', patch_artist=True, boxprops = dict(facecolor = \"aquamarine\"));\n",
        "plt.show()"
      ],
      "id": "a27c4fa4",
      "execution_count": null,
      "outputs": []
    },
    {
      "cell_type": "markdown",
      "metadata": {},
      "source": [
        "#### What do these parameters do?\n",
        "\n",
        "- `patch_artist=True`: This parameter tells matplotlib to draw the boxplot elements (like the box itself) as \"patch\" objects, which can be filled with colors. By default, boxplots are drawn as simple lines without fill capability. Setting this to `True` enables us to add colors and other visual effects to the box.\n",
        "  \n",
        "- `boxprops = dict(facecolor = \"aquamarine\")`: This parameter controls the properties of the box (the rectangle part of the boxplot). The `dict()` creates a dictionary of properties we want to set:\n",
        "\n",
        "`facecolor` specifies the fill color inside the box\n",
        "\"aquamarine\" is the color name (you could use other colors like \"lightblue\", \"pink\", \"yellow\", etc.)\n",
        "\n",
        "\n",
        "Think of it like this: `patch_artist=True` gives us a \"paintable\" box, and `boxprops = dict(facecolor = \"aquamarine\")` tells Python \"paint the inside of that box aquamarine color!\"\n",
        "\n",
        "Try experimenting: after completing this task, try changing \"aquamarine\" to \"lightcoral\" or \"lightsteelblue\" to see different colors!\n",
        "\n",
        "---\n",
        "\n",
        "Finally, let's add a Title! Right below your call to `plt.boxplot()`, add the following: \n",
        "\n",
        "- `plt.title(\"My First Python Boxplot\");` (again, don't forget the semicolons)."
      ],
      "id": "57674b4e"
    },
    {
      "cell_type": "code",
      "metadata": {},
      "source": [
        "#| echo: false\n",
        "\n",
        "import matplotlib.pyplot as plt\n",
        "\n",
        "# Step 1: Create the list y\n",
        "y = [1, 2, 3, 4, 5, 4, 3, 5, 4, 1, 2]\n",
        "\n",
        "# Step 2: Create a horizontal boxplot\n",
        "plt.boxplot(y, orientation ='horizontal', patch_artist=True, boxprops = dict(facecolor = \"aquamarine\"));\n",
        "plt.title(\"My First Python Boxplot\");\n",
        "plt.show()"
      ],
      "id": "f0a810ab",
      "execution_count": null,
      "outputs": []
    },
    {
      "cell_type": "markdown",
      "metadata": {},
      "source": [
        "3. Based on the boxplot we just generated, **what is the IQR of y?** Write your answer in a Markdown cell. Then, use the syntax discussed in the previous section of this Lab to use Python to compute the `IQR` of `y`, and comment on the result.\n",
        "\n",
        ":::"
      ],
      "id": "8a071c45"
    },
    {
      "cell_type": "code",
      "metadata": {},
      "source": [
        "# Your code here"
      ],
      "id": "e125bc32",
      "execution_count": null,
      "outputs": []
    },
    {
      "cell_type": "markdown",
      "metadata": {},
      "source": [
        "```{Markdown}\n",
        "\n",
        "# Your answer here\n",
        "```\n",
        "\n",
        "---\n",
        "\n",
        "Of course, boxplots are not the only way to summarize numerical variables: we also have **histograms**!\n",
        "\n",
        "\n",
        "::: {.task-box}\n",
        "## Task 6\n",
        "\n",
        "::: {.time-box}\n",
        "⏱️ **Estimated time:** 5 minutes\n",
        ":::\n",
        "\n",
        "Call the `plt.hist()` function on the `y` list defined in **Task 5**, and use the function [documentation](https://matplotlib.org/stable/api/_as_gen/matplotlib.pyplot.hist.html) to add arguments to your call to `plt.hist()` function to generate a histogram with appropriate number of bins. Add a label for the x-axis `plt.xlabel('Values')`, a label for the y-axis\n",
        "`plt.ylabel('Frequency')` and a title using \n",
        "`plt.title('Histogram of y values')`.\n",
        "\n",
        "For example, to create a basic histogram using `plt.hist()`, you would use the following:"
      ],
      "id": "f6000e7c"
    },
    {
      "cell_type": "code",
      "metadata": {},
      "source": [
        "# Basic histogram\n",
        "plt.hist(y);\n",
        "plt.show()"
      ],
      "id": "867a64bc",
      "execution_count": null,
      "outputs": []
    },
    {
      "cell_type": "markdown",
      "metadata": {},
      "source": [
        "- You can use explicit bin edges like `bins=[0.5, 1.5, 2.5, 3.5, 4.5, 5.5]` to center your integer values.\n",
        "  \n",
        "- Alternatively, you could use `range=(0.5, 5.5)` with `bins=5`. \n",
        "  \n",
        "- Use `rwidth=0.9` to make bars 90% width (creates 10% spacing)\n",
        "\n",
        "- Add edge colors with `edgecolor='black'` for visual separation\n",
        "  \n",
        "\n",
        "Your histogram, will look like this!"
      ],
      "id": "dbcde122"
    },
    {
      "cell_type": "code",
      "metadata": {},
      "source": [
        "#| echo: false\n",
        "\n",
        "plt.hist(y, bins=5, range=(0.5, 5.5), rwidth=0.9, edgecolor='black');\n",
        "plt.xlabel('Values')\n",
        "plt.ylabel('Frequency')\n",
        "plt.title('Histogram of y values')\n",
        "plt.show()"
      ],
      "id": "9ca94fe3",
      "execution_count": null,
      "outputs": []
    },
    {
      "cell_type": "markdown",
      "metadata": {},
      "source": [
        "::: {.callout-important}\n",
        "Pay attention to the number of bins! With 5 distinct values (1, 2, 3, 4, 5), we use 5 bins to clearly show the frequency of each value.\n",
        ":::\n",
        ":::"
      ],
      "id": "16b68aea"
    },
    {
      "cell_type": "code",
      "metadata": {},
      "source": [
        "# You code here"
      ],
      "id": "bbad8f9a",
      "execution_count": null,
      "outputs": []
    },
    {
      "cell_type": "markdown",
      "metadata": {},
      "source": [
        "## Scatterplots\n",
        "We should also quickly discuss how to generate scatterplots in Python.\n",
        "\n",
        "\n",
        "::: {.task-box}\n",
        "## Task 7\n",
        "\n",
        "::: {.time-box}\n",
        "⏱️ **Estimated time:** 4 minutes\n",
        ":::\n",
        "\n",
        "1. Copy-paste the following code into a code cell, and then run that cell (don't worry about what this code is doing- we'll discuss that in a future lab)."
      ],
      "id": "81659757"
    },
    {
      "cell_type": "code",
      "metadata": {},
      "source": [
        "np.random.seed(5)\n",
        "\n",
        "x1 = np.random.normal(0, 1, 100)\n",
        "x2 = x1 + np.random.normal(0, 1, 100)\n",
        "\n",
        "plt.scatter(x1, x2);"
      ],
      "id": "32524ca9",
      "execution_count": null,
      "outputs": []
    },
    {
      "cell_type": "markdown",
      "metadata": {},
      "source": [
        "2. Add an x-axis label that says \"x1\" and a y-axis label that says \"x2\", along with the title \"My First Python Scatterplot\".\n",
        ":::"
      ],
      "id": "fc1d4ee5"
    },
    {
      "cell_type": "code",
      "metadata": {},
      "source": [
        "# You code here"
      ],
      "id": "4610af5d",
      "execution_count": null,
      "outputs": []
    },
    {
      "cell_type": "markdown",
      "metadata": {},
      "source": [
        "### Plotting a Function\n",
        "\n",
        "::: {.time-box}\n",
        "⏱️ **Estimated time:** 4 minutes\n",
        ":::\n",
        "\n",
        "Finally, I'd like to take a quick detour from descriptive statistics and talk about how to plot a function using Python. As a concrete example, let's try and plot a sine curve from $0$ to $2 \\pi$\n",
        "\n",
        "If you recall, in Lab1 we used the `sin()` function from the `math` module- it turns out that the `numpy` module (which, we have imported as `np`) also has a `sin` function, so let's use that one today:"
      ],
      "id": "e72f4866"
    },
    {
      "cell_type": "code",
      "metadata": {},
      "source": [
        "#| eval: false\n",
        "\n",
        "np.sin()"
      ],
      "id": "d55e1ce0",
      "execution_count": null,
      "outputs": []
    },
    {
      "cell_type": "markdown",
      "metadata": {},
      "source": [
        "Next, we create a set of finely-spaced points between our two desired endpoints (here, $0$ to $2 \\pi$, respectively). \n",
        "We will do so using the\n",
        "`np.linspace()` function, which works as follows:"
      ],
      "id": "7f920db1"
    },
    {
      "cell_type": "code",
      "metadata": {},
      "source": [
        "#| eval: false\n",
        "np.linspace(start, stop, num)"
      ],
      "id": "46f3fe24",
      "execution_count": null,
      "outputs": []
    },
    {
      "cell_type": "markdown",
      "metadata": {},
      "source": [
        "creates a set of `num` evenly-spaced values between `start` and `stop`, respectively. For instance:"
      ],
      "id": "4d0d4eb2"
    },
    {
      "cell_type": "code",
      "metadata": {},
      "source": [
        "np.linspace(0,1,10)"
      ],
      "id": "6513f7da",
      "execution_count": null,
      "outputs": []
    },
    {
      "cell_type": "markdown",
      "metadata": {},
      "source": [
        "In the context of plotting, the more points we generate the smoother our plot will seem (you will see what this means in a minute). As such, let's start with **150 points** between $0$ to $2 \\pi$:"
      ],
      "id": "4aa8d573"
    },
    {
      "cell_type": "code",
      "metadata": {},
      "source": [
        "x = np.linspace(0, 2 * np.pi, 150)"
      ],
      "id": "cf0c4c33",
      "execution_count": null,
      "outputs": []
    },
    {
      "cell_type": "markdown",
      "metadata": {},
      "source": [
        "Finally, we call the `plt.plot()` function on $x$ and `np.sin(x)` to generate our plot:"
      ],
      "id": "8ceb213d"
    },
    {
      "cell_type": "code",
      "metadata": {},
      "source": [
        "plt.figure(figsize=(4.5, 2.25))\n",
        "plt.plot(x, np.sin(x))"
      ],
      "id": "e39d188d",
      "execution_count": null,
      "outputs": []
    },
    {
      "cell_type": "markdown",
      "metadata": {},
      "source": [
        "Let's see what would have happened if we used fewer values in our `np.linspace()` call:"
      ],
      "id": "02d52c7c"
    },
    {
      "cell_type": "code",
      "metadata": {},
      "source": [
        "xnew = np.linspace(0, 2 * np.pi, 10)\n",
        "plt.plot(xnew, np.sin(xnew))"
      ],
      "id": "98cc6d3b",
      "execution_count": null,
      "outputs": []
    },
    {
      "cell_type": "markdown",
      "metadata": {},
      "source": [
        "So, the more points we include in our call to `np.linspace()`, the smoother our final function will look!\n",
        "\n",
        "To summarize, here is the general \"recipe\" to plot a `function f()` between two values a and b in Python:\n",
        "\n",
        "1. Let `x = np.linspace(a, b, <some large value>)`\n",
        "2. Call `plt.plot(x, f(x))`\n",
        "3. Add labels/titles as necessary\n",
        "\n",
        "::: {.task-box}\n",
        "## Task 8\n",
        "\n",
        "::: {.time-box}\n",
        "⏱️ **Estimated time:** 4 minutes\n",
        ":::\n",
        "\n",
        "Generate a plot of the function $f(x)=x-x^2 \\sin(x)$ between $x=−10$ and $x=10$. \n",
        "\n",
        "Experiment around with the number of values generated using `np.linspace(start, stop, num)` to ensure your plot is relatively smooth. \n",
        "\n",
        "Be sure to include axis labels; also, change the color of the graph to red. Your final plot should look something like this:"
      ],
      "id": "1ce9a532"
    },
    {
      "cell_type": "code",
      "metadata": {},
      "source": [
        "#| echo: false\n",
        "\n",
        "import numpy as np\n",
        "import matplotlib.pyplot as plt\n",
        "\n",
        "# Create x values using linspace for a smooth plot\n",
        "x = np.linspace(-10, 10, 1000)  # 1000 points for smoothness\n",
        "\n",
        "# Define the function f(x) = x - x²sin(x)\n",
        "y = x - x**2 * np.sin(x)\n",
        "\n",
        "# Create the plot with red color\n",
        "plt.figure(figsize=(10, 6))\n",
        "plt.plot(x, y, color='red', linewidth=2)\n",
        "plt.xlabel('x')\n",
        "plt.ylabel('f(x)')\n",
        "plt.title('Plot of f(x) = x - x²sin(x)')\n",
        "plt.grid(True, alpha=0.3)  # Add a light grid for better readability\n",
        "plt.show()"
      ],
      "id": "3c5e15bb",
      "execution_count": null,
      "outputs": []
    },
    {
      "cell_type": "markdown",
      "metadata": {},
      "source": [
        ":::"
      ],
      "id": "a11a925f"
    },
    {
      "cell_type": "code",
      "metadata": {},
      "source": [
        "#| eval: false\n",
        "# Your code here\n",
        "\n",
        "# Create x values using linspace for a smooth plot\n",
        "x = \n",
        "\n",
        "# Define the function\n",
        "y = \n",
        "\n",
        "# Create the plot with red color\n",
        "plt.figure(figsize=(10, 6))\n",
        "plt.plot( , , color= , linewidth=2) # add relevant params \n",
        "plt.xlabel('' ) # add x-axis label\n",
        "plt.ylabel( '') # add y-axis label\n",
        "plt.title( '') # add title\n",
        "plt.grid(True, alpha=0.3)  #  light grid for better readability\n",
        "plt.show()"
      ],
      "id": "a1e014c4",
      "execution_count": null,
      "outputs": []
    },
    {
      "cell_type": "markdown",
      "metadata": {},
      "source": [
        "This concludes lab 3!"
      ],
      "id": "ed36e93c"
    }
  ],
  "metadata": {
    "kernelspec": {
      "name": "python3",
      "language": "python",
      "display_name": "Python 3 (ipykernel)",
      "path": "/Users/narjesmathlouthi/Desktop/PSTAT5A/web/PSTAT5A/.venv/share/jupyter/kernels/python3"
    }
  },
  "nbformat": 4,
  "nbformat_minor": 5
}