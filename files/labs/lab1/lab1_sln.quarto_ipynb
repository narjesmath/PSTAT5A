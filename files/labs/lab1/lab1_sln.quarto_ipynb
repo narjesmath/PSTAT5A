{
  "cells": [
    {
      "cell_type": "markdown",
      "metadata": {},
      "source": [
        "---\n",
        "title: \"PSTAT 5A Lab 1 - SOLUTIONS\"\n",
        "subtitle: \"Introduction to Python and JupyterHub\"\n",
        "author: \"Solution Key\"\n",
        "date: today\n",
        "format:\n",
        "  html:\n",
        "    toc: true\n",
        "    toc-depth: 3\n",
        "    number-sections: false\n",
        "    theme: cosmo\n",
        "    css: /files/lecture_notes/theme/lecture-styles.css\n",
        "    logo: /img/logo.png\n",
        "    footer: \"PSTAT 5A Lab 1 Solutions © 2025\"\n",
        "  pdf:\n",
        "    toc: true\n",
        "    number-sections: true\n",
        "    geometry: margin=1in\n",
        "    fontsize: 11pt\n",
        "    documentclass: article\n",
        "  docx:\n",
        "    toc: true\n",
        "    number-sections: false\n",
        "    highlight-style: github\n",
        "execute:\n",
        "  echo: true\n",
        "  warning: false\n",
        "jupyter: pstat5a\n",
        "---\n",
        "\n",
        "::: {.column-margin}\n",
        "![](/img/logo.png){width=150px}\n",
        ":::\n",
        "\n",
        "# Lab 1 Solutions\n",
        "\n",
        "This document provides complete solutions to all tasks in PSTAT 5A Lab 1.\n",
        "\n",
        "---\n",
        "\n",
        "## Task 1 Solution\n",
        "\n",
        "::: {.callout-success}\n",
        "**Objective:** Rename your notebook from `Untitled` to `Lab1`\n",
        "\n",
        "**Steps:**\n",
        "\n",
        "- Located the notebook in the file browser (appears as `Untitled.ipynb`)\n",
        "  \n",
        "- Right-clicked on the notebook name\n",
        "  \n",
        "- Selected \"Rename\" from the context menu\n",
        "  \n",
        "- Changed the name to `Lab1`\n",
        "  \n",
        "- Pressed Enter to confirm\n",
        "  \n",
        "- Verified the title bar now shows `Lab1.ipynb`\n",
        "\n",
        "**Expected Result:**\n",
        "\n",
        "Your notebook should now be named `Lab1.ipynb` and this should be visible in both the file browser and the title bar.\n",
        ":::\n",
        "\n",
        "---\n",
        "\n",
        "## Task 2 Solution\n",
        "\n",
        "::: {.callout-success}\n",
        "**Objective:** Create a Markdown cell with heading and a Code cell with basic arithmetic\n",
        "\n",
        "**Markdown Cell:**\n",
        "\n",
        "```{markdown}\n",
        "# Task 2\n",
        "```\n",
        "\n",
        "**Code Cell:**"
      ],
      "id": "31bcbee4"
    },
    {
      "cell_type": "code",
      "metadata": {},
      "source": [
        "2 + 2"
      ],
      "id": "566905b4",
      "execution_count": null,
      "outputs": []
    },
    {
      "cell_type": "markdown",
      "metadata": {},
      "source": [
        "**Expected Result:**\n",
        "\n",
        "- The code cell executes the arithmetic operation\n",
        "  \n",
        "- Python displays the result `4` below the cell\n",
        "  \n",
        "- A new empty code cell automatically appears below\n",
        "  \n",
        "- The cell is marked as executed with a number like `[1]`\n",
        ":::\n",
        "\n",
        "---\n",
        "\n",
        "## Task 3 Solution\n",
        "\n",
        "::: {.callout-success}\n",
        "**Objective:** Demonstrate syntax error and understand error messages\n",
        "\n",
        "**Markdown Cell:**\n",
        "```{markdown}\n",
        "# Task 3\n",
        "```\n",
        "\n",
        "**Code Cell with Intentional Error:**"
      ],
      "id": "3d65df17"
    },
    {
      "cell_type": "code",
      "metadata": {},
      "source": [
        "#| eval: false\n",
        "2 plus 2"
      ],
      "id": "33d34f52",
      "execution_count": null,
      "outputs": []
    },
    {
      "cell_type": "markdown",
      "metadata": {},
      "source": [
        "**Expected Error Output:**\n",
        "```\n",
        "  Cell In[2], line 1\n",
        "    2 plus 2\n",
        "      ^^^^\n",
        "SyntaxError: invalid syntax\n",
        "```\n",
        "\n",
        "**Explanation:**\n",
        "\n",
        "- Python doesn't understand `plus` as an operator\n",
        "  \n",
        "- The `^^^^` points to where Python detected the problem\n",
        "  \n",
        "- The error message tells us it's a `SyntaxError` meaning invalid Python syntax\n",
        "  \n",
        "- In Python, we must use `+` for addition, not the word `plus`\n",
        "\n",
        "**Corrected Version:**"
      ],
      "id": "a32187db"
    },
    {
      "cell_type": "code",
      "metadata": {},
      "source": [
        "2 + 2  # This works correctly"
      ],
      "id": "b595edce",
      "execution_count": null,
      "outputs": []
    },
    {
      "cell_type": "markdown",
      "metadata": {},
      "source": [
        ":::\n",
        "\n",
        "---\n",
        "\n",
        "## Task 4 Solution\n",
        "\n",
        "::: {.callout-success}\n",
        "**Objective:** Compute mathematical expressions using Python**\n",
        "\n",
        "**Problem 1:**\n",
        "$\\frac{2 + 3}{4 + 5^6}$\n",
        "\n",
        "**Python Code:**"
      ],
      "id": "ae2176ba"
    },
    {
      "cell_type": "code",
      "metadata": {},
      "source": [
        "(2 + 3) / (4 + 5**6)"
      ],
      "id": "f2863509",
      "execution_count": null,
      "outputs": []
    },
    {
      "cell_type": "markdown",
      "metadata": {},
      "source": [
        "**Step by Step:**"
      ],
      "id": "57278869"
    },
    {
      "cell_type": "code",
      "metadata": {},
      "source": [
        "numerator = 2 + 3\n",
        "print(f\"Numerator: {numerator}\")\n",
        "\n",
        "denominator = 4 + 5**6\n",
        "print(f\"Denominator: {denominator}\")\n",
        "\n",
        "result = numerator / denominator\n",
        "print(f\"Final result: {result}\")"
      ],
      "id": "477b6895",
      "execution_count": null,
      "outputs": []
    },
    {
      "cell_type": "markdown",
      "metadata": {},
      "source": [
        "**Problem 2:**\n",
        "$(1 - 3 \\cdot 4^5)^6$\n",
        "\n",
        "**Python Code:**"
      ],
      "id": "aa1ea32a"
    },
    {
      "cell_type": "code",
      "metadata": {},
      "source": [
        "(1 - 3 * 4**5)**6"
      ],
      "id": "5f7d11ab",
      "execution_count": null,
      "outputs": []
    },
    {
      "cell_type": "markdown",
      "metadata": {},
      "source": [
        "**Step by Step:**"
      ],
      "id": "0df25bee"
    },
    {
      "cell_type": "code",
      "metadata": {},
      "source": [
        "inner_exponent = 4**5\n",
        "print(f\"4^5 = {inner_exponent}\")\n",
        "\n",
        "multiplication = 3 * inner_exponent\n",
        "print(f\"3 * 4^5 = {multiplication}\")\n",
        "\n",
        "subtraction = 1 - multiplication\n",
        "print(f\"1 - 3 * 4^5 = {subtraction}\")\n",
        "\n",
        "final_result = subtraction**6\n",
        "print(f\"(1 - 3 * 4^5)^6 = {final_result}\")"
      ],
      "id": "24880481",
      "execution_count": null,
      "outputs": []
    },
    {
      "cell_type": "markdown",
      "metadata": {},
      "source": [
        ":::\n",
        "\n",
        "---\n",
        "\n",
        "## Task 5 Solution\n",
        "\n",
        "::: {.callout-success}\n",
        "**Objective:** Understand module importing and fix NameError\n",
        "\n",
        "**Step 1: Code that produces error**"
      ],
      "id": "18b0d329"
    },
    {
      "cell_type": "code",
      "metadata": {},
      "source": [
        "#| eval: false\n",
        "sin(1)"
      ],
      "id": "a1f598a0",
      "execution_count": null,
      "outputs": []
    },
    {
      "cell_type": "markdown",
      "metadata": {},
      "source": [
        "**Expected Error:**\n",
        "```\n",
        "NameError: name 'sin' is not defined\n",
        "```\n",
        "**Explanation:**\n",
        "Python doesn't recognize `sin` because the math functions aren't loaded by default.\n",
        "\n",
        "**Step 2: Import module and retry**"
      ],
      "id": "e31e88f0"
    },
    {
      "cell_type": "code",
      "metadata": {},
      "source": [
        "from math import *\n",
        "sin(1)"
      ],
      "id": "80bd2849",
      "execution_count": null,
      "outputs": []
    },
    {
      "cell_type": "markdown",
      "metadata": {},
      "source": [
        "**Alternative Solutions:**"
      ],
      "id": "c902e896"
    },
    {
      "cell_type": "code",
      "metadata": {},
      "source": [
        "# Method 1: Import specific function\n",
        "from math import sin\n",
        "print(sin(1))\n",
        "\n",
        "# Method 2: Import entire module\n",
        "import math\n",
        "print(math.sin(1))\n",
        "\n",
        "# Method 3: Import with alias\n",
        "import math as m\n",
        "print(m.sin(1))"
      ],
      "id": "55b85b72",
      "execution_count": null,
      "outputs": []
    },
    {
      "cell_type": "markdown",
      "metadata": {},
      "source": [
        "All produce the same result: `0.8414709848078965`\n",
        ":::\n",
        "\n",
        "---\n",
        "\n",
        "## Task 6 Solution\n",
        "\n",
        "::: {.callout-success}\n",
        "**Objective:** Understand Python case sensitivity\n",
        "\n",
        "**Step 1: Variable assignment**"
      ],
      "id": "524522ba"
    },
    {
      "cell_type": "code",
      "metadata": {},
      "source": [
        "my_variable = 5"
      ],
      "id": "2359222c",
      "execution_count": null,
      "outputs": []
    },
    {
      "cell_type": "markdown",
      "metadata": {},
      "source": [
        "**Step 2: Wrong capitalization**"
      ],
      "id": "9a0b26d2"
    },
    {
      "cell_type": "code",
      "metadata": {},
      "source": [
        "#| eval : false\n",
        "\n",
        "print(My_variable)"
      ],
      "id": "ae72f4d1",
      "execution_count": null,
      "outputs": []
    },
    {
      "cell_type": "markdown",
      "metadata": {},
      "source": [
        "**Expected Error:**\n",
        "```\n",
        "NameError: name 'My_variable' is not defined\n",
        "```\n",
        "**Explanation:**\n",
        "Python is case-sensitive, so `My_variable` ≠ `my_variable`\n",
        "\n",
        "**Step 3: Correct capitalization**"
      ],
      "id": "2b21f38c"
    },
    {
      "cell_type": "code",
      "metadata": {},
      "source": [
        "print(my_variable)"
      ],
      "id": "fc4230f4",
      "execution_count": null,
      "outputs": []
    },
    {
      "cell_type": "markdown",
      "metadata": {},
      "source": [
        "**Additional Examples:**"
      ],
      "id": "6cd9a440"
    },
    {
      "cell_type": "code",
      "metadata": {},
      "source": [
        "# These are all different variables in Python\n",
        "my_variable = 5\n",
        "My_variable = 10\n",
        "MY_VARIABLE = 15\n",
        "my_Variable = 20\n",
        "\n",
        "print(f\"my_variable = {my_variable}\")\n",
        "print(f\"My_variable = {My_variable}\")\n",
        "print(f\"MY_VARIABLE = {MY_VARIABLE}\")\n",
        "print(f\"my_Variable = {my_Variable}\")"
      ],
      "id": "5e4a21f2",
      "execution_count": null,
      "outputs": []
    },
    {
      "cell_type": "markdown",
      "metadata": {},
      "source": [
        ":::\n",
        "\n",
        "---\n",
        "\n",
        "## Task 7 Solution\n",
        "\n",
        "::: {.callout-success}\n",
        "**Objective:** Add descriptive comments to previous code\n",
        "\n",
        "**Examples of well-commented code from previous tasks:**"
      ],
      "id": "36a039ad"
    },
    {
      "cell_type": "code",
      "metadata": {},
      "source": [
        "#| eval: false\n",
        "\n",
        "# Task 2: Basic arithmetic\n",
        "2 + 2  # Adding two integers\n",
        "\n",
        "# Task 4: Complex mathematical expression\n",
        "# Calculate (2 + 3) / (4 + 5^6)\n",
        "numerator = 2 + 3  # Sum of 2 and 3\n",
        "denominator = 4 + 5**6  # 4 plus 5 to the 6th power\n",
        "result = numerator / denominator  # Final division\n",
        "print(f\"Result: {result}\")\n",
        "\n",
        "# Task 5: Import math module and use sin function\n",
        "from math import *  # Import all math functions\n",
        "angle_in_radians = 1  # Input angle in radians\n",
        "sine_value = sin(angle_in_radians)  # Calculate sine\n",
        "print(f\"sin(1) = {sine_value}\")\n",
        "\n",
        "# Task 6: Variable assignment with proper naming\n",
        "my_variable = 5  # Store the value 5 in my_variable\n",
        "print(my_variable)  # Display the value\n",
        "\n",
        "\"\"\"\n",
        "This is a multi-line comment.\n",
        "It can span multiple lines and is useful\n",
        "for longer explanations or documentation.\n",
        "\"\"\""
      ],
      "id": "86635371",
      "execution_count": null,
      "outputs": []
    },
    {
      "cell_type": "markdown",
      "metadata": {},
      "source": [
        "**Good commenting practices demonstrated:**\n",
        "\n",
        "- Explain what the code does\n",
        "  \n",
        "- Clarify complex calculations\n",
        "  \n",
        "- Document variable purposes\n",
        "  \n",
        "- Use both inline (`#`) and block (`\"\"\"`) comments\n",
        ":::\n",
        "\n",
        "---\n",
        "\n",
        "## Task 8 Solution\n",
        "\n",
        "::: {.callout-success}\n",
        "**Objective:** Explore Python data types using the `type()` function\n",
        "\n",
        "**Code and Expected Outputs:**"
      ],
      "id": "d882ab0e"
    },
    {
      "cell_type": "code",
      "metadata": {},
      "source": [
        "print(type(1))           # Output: <class 'int'>\n",
        "print(type(1.1))         # Output: <class 'float'>\n",
        "print(type(\"hello\"))     # Output: <class 'str'>"
      ],
      "id": "11ef7abf",
      "execution_count": null,
      "outputs": []
    },
    {
      "cell_type": "markdown",
      "metadata": {},
      "source": [
        "**Additional Examples:**"
      ],
      "id": "d28cb6b8"
    },
    {
      "cell_type": "code",
      "metadata": {},
      "source": [
        "# More data type examples\n",
        "print(\"Integer:\", type(42))\n",
        "print(\"Float:\", type(3.14159))\n",
        "print(\"String with single quotes:\", type('Python'))\n",
        "print(\"String with double quotes:\", type(\"Programming\"))\n",
        "print(\"Boolean True:\", type(True))\n",
        "print(\"Boolean False:\", type(False))\n",
        "print(\"List:\", type([1, 2, 3]))\n",
        "print(\"Tuple:\", type((1, 2, 3)))\n",
        "print(\"Dictionary:\", type({\"key\": \"value\"}))"
      ],
      "id": "16ae2a12",
      "execution_count": null,
      "outputs": []
    },
    {
      "cell_type": "markdown",
      "metadata": {},
      "source": [
        ":::\n",
        "\n",
        "---\n",
        "\n",
        "## Task 9 Solution\n",
        "\n",
        "::: {.callout-success}\n",
        "**Objective:** Practice variable assignment, updating, and calculations\n",
        "\n",
        "**Markdown cell:**\n",
        "\n",
        "```{markdown}\n",
        "# Task 9\n",
        "```\n",
        "\n",
        "**Step 2: Initial variable assignments**"
      ],
      "id": "7bd2bae7"
    },
    {
      "cell_type": "code",
      "metadata": {},
      "source": [
        "course = \"PSTAT 5A\"\n",
        "num_sections = 4\n",
        "section_capacity = 25"
      ],
      "id": "0b2542f9",
      "execution_count": null,
      "outputs": []
    },
    {
      "cell_type": "markdown",
      "metadata": {},
      "source": [
        "**Step 3: Update num_sections (correct approach)**"
      ],
      "id": "aa776f52"
    },
    {
      "cell_type": "code",
      "metadata": {},
      "source": [
        "num_sections = num_sections + 1\n",
        "print(f\"Updated number of sections: {num_sections}\")\n",
        "# Alternative: num_sections += 1\n",
        "# Alternative: num_sections = 4 + 1"
      ],
      "id": "93add97d",
      "execution_count": null,
      "outputs": []
    },
    {
      "cell_type": "markdown",
      "metadata": {},
      "source": [
        "**Step 4: Predict and test expressions**"
      ],
      "id": "3905e5f7"
    },
    {
      "cell_type": "code",
      "metadata": {},
      "source": [
        "print(type(course))           # Expected: <class 'str'>\n",
        "print(type(num_sections))     # Expected: <class 'int'>\n",
        "print(num_sections * section_capacity) # Expected: 125"
      ],
      "id": "b48fcc12",
      "execution_count": null,
      "outputs": []
    },
    {
      "cell_type": "markdown",
      "metadata": {},
      "source": [
        "**Step 5: Calculate course capacity**"
      ],
      "id": "353bade6"
    },
    {
      "cell_type": "code",
      "metadata": {},
      "source": [
        "course_capacity = num_sections * section_capacity\n",
        "print(f\"Course: {course}\")\n",
        "print(f\"Number of sections: {num_sections}\")\n",
        "print(f\"Capacity per section: {section_capacity}\")\n",
        "print(f\"Total course capacity: {course_capacity}\")"
      ],
      "id": "1a38d0fd",
      "execution_count": null,
      "outputs": []
    },
    {
      "cell_type": "markdown",
      "metadata": {},
      "source": [
        "**Complete Solution with Comments:**"
      ],
      "id": "470c10a6"
    },
    {
      "cell_type": "code",
      "metadata": {},
      "source": [
        "# Step 2: Initial variable assignments\n",
        "course = \"PSTAT 5A\"          # Course name as string\n",
        "num_sections = 4             # Initial number of sections\n",
        "section_capacity = 25        # Maximum students per section\n",
        "\n",
        "# Step 3: A new section has been added\n",
        "num_sections = num_sections + 1  # Increment by 1, now equals 5\n",
        "\n",
        "# Step 4: Testing expressions with predictions\n",
        "print(\"Testing type() function:\")\n",
        "print(f\"type(course) = {type(course)}\")  # Expected: <class 'str'>\n",
        "print(f\"type(num_sections) = {type(num_sections)}\")  # Expected: <class 'int'>\n",
        "print(f\"num_sections * section_capacity = {num_sections * section_capacity}\")  # Expected: 125\n",
        "\n",
        "# Step 5: Calculate total course capacity\n",
        "course_capacity = num_sections * section_capacity  # 5 × 25 = 125\n",
        "print(f\"\\nFinal Results:\")\n",
        "print(f\"Course: {course}\")\n",
        "print(f\"Total sections: {num_sections}\")\n",
        "print(f\"Capacity per section: {section_capacity}\")\n",
        "print(f\"Total course capacity: {course_capacity} students\")"
      ],
      "id": "3e0158eb",
      "execution_count": null,
      "outputs": []
    },
    {
      "cell_type": "markdown",
      "metadata": {},
      "source": [
        ":::\n",
        "\n",
        "---\n",
        "\n",
        "## Summary of Key Concepts Learned\n",
        "\n",
        "**✅ JupyterHub Environment**\n",
        "\n",
        "- Creating and renaming notebooks\n",
        "  \n",
        "- Understanding cell types (Code vs Markdown)\n",
        "  \n",
        "- Running cells with ▶️ button or `Shift+Enter`\n",
        "  \n",
        "- Navigating the interface\n",
        "\n",
        "**✅ Python Basics**\n",
        "\n",
        "- Arithmetic operations: `+`, `-`, `*`, `/`, `**`\n",
        "  \n",
        "- Order of operations: Parentheses,\n",
        "Exponents, Multiplication/Division, Addition/Subtraction\n",
        "\n",
        "- Error reading: Understanding SyntaxError and NameError messages\n",
        "\n",
        "**✅ Variables and Data Types**\n",
        "\n",
        "- Variable assignment: `variable_name = value`\n",
        "  \n",
        "- Case sensitivity: `my_var ≠ My_var`\n",
        "  \n",
        "- Basic types: `int`, `float`, `str`, `bool`\n",
        "  \n",
        "- Type checking: `type()` function\n",
        "\n",
        "**✅ Modules and Imports**\n",
        "\n",
        "- Import syntax: `from module import *` or `import module`\n",
        "  \n",
        "- Using functions: After importing, functions become available\n",
        "  \n",
        "- Math module: Contains mathematical functions like `sin()`, `cos()`, etc.\n",
        "\n",
        "**✅ Comments and Documentation**\n",
        "\n",
        "- Inline comments: `# This is a comment`\n",
        "  \n",
        "- Block comments: `\"\"\"Multi-line comment\"\"\"`\n",
        "  \n",
        "- Purpose: Document code for yourself and others\n",
        "\n",
        "**✅ Programming Best Practices**\n",
        "\n",
        "- Write descriptive variable names\n",
        "  \n",
        "- Add comments to explain complex logic\n",
        "  \n",
        "- Test your code incrementally\n",
        "  \n",
        "- Read and understand error messages\n",
        "  \n",
        "- Use existing variables in calculations when possible\n",
        "\n",
        "---\n",
        "\n",
        "## Next Steps\n",
        "\n",
        "In Lab 2, you'll learn about:\n",
        "\n",
        "- Python functions and how to create them\n",
        "  \n",
        "- Data structures (lists, dictionaries)\n",
        "  \n",
        "- Control flow (if statements, loops)\n",
        "  \n",
        "- More advanced programming concepts\n",
        "\n",
        "**Great work completing Lab 1!** You now have the foundation needed for statistical programming in Python."
      ],
      "id": "b314217a"
    }
  ],
  "metadata": {
    "kernelspec": {
      "name": "pstat5a",
      "language": "python",
      "display_name": "Python (pstat5a)",
      "path": "/Users/narjesmathlouthi/Library/Jupyter/kernels/pstat5a"
    }
  },
  "nbformat": 4,
  "nbformat_minor": 5
}