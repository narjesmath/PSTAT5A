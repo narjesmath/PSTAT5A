{
 "cells": [
  {
   "cell_type": "markdown",
   "metadata": {
    "editable": true,
    "slideshow": {
     "slide_type": ""
    },
    "tags": []
   },
   "source": [
    "# Lab 2: Data Classes and Programming Fundamentals\n",
    "\n",
    "**PSTAT 5A – Summer Session A 2025**  \n",
    "**Instructor:** Narjes Mathlouthi  \n",
    "**Date:** June 30, 2025"
   ]
  },
  {
   "cell_type": "code",
   "execution_count": 29,
   "metadata": {
    "editable": false,
    "slideshow": {
     "slide_type": ""
    },
    "tags": []
   },
   "outputs": [],
   "source": [
    "import warnings\n",
    "warnings.filterwarnings(\"ignore\", message=\".*pkg_resources is deprecated.*\")\n",
    "from datascience import *"
   ]
  },
  {
   "cell_type": "markdown",
   "metadata": {},
   "source": [
    "\n",
    "## Introduction\n",
    "\n",
    "Last week, we were introduced to the notion of data types. Recall that \"data type\" can be thought of as the category (or type) of data i.e. integer, float, character, etc.\n",
    "\n",
    "In Python, however, we often need to aggregate data into larger structures, often referred to as **data classes**.\n",
    "\n",
    "## Lists\n",
    "\n",
    "Perhaps the most fundamental data structure in Python is that of a **list**. Just like lists in real life or in mathematics, Python lists are just collections of items enclosed in square brackets:\n",
    "\n",
    "```\n",
    "[<item 1>, <item 2>, ..., <item n>]\n",
    "```\n",
    "\n",
    "Again, the items in a list can be of any data type; we can even mix and match data types!\n",
    "\n",
    "### Task 1\n",
    "\n",
    "Create a list containing the elements `1`, `\"hi\"`, `3.4`, and `\"PSTAT 5A\"`. Assign this list to a variable called `list1`."
   ]
  },
  {
   "cell_type": "code",
   "execution_count": null,
   "metadata": {},
   "outputs": [],
   "source": [
    "# Your code here"
   ]
  },
  {
   "cell_type": "markdown",
   "metadata": {},
   "source": [
    "Just as we were able to use a Python function (`type()`) to check the type of a particular piece of data, we can also use Python to check the structure or class of a piece of data. It turns out that we use the same function as before- namely, `type()`!\n",
    "\n",
    "### Task 1 (cont'd)\n",
    "\n",
    "Run the code `type(list1)`."
   ]
  },
  {
   "cell_type": "code",
   "execution_count": null,
   "metadata": {},
   "outputs": [],
   "source": [
    "# Your code here"
   ]
  },
  {
   "cell_type": "markdown",
   "metadata": {},
   "source": [
    "## Indexing\n",
    "\n",
    "Alright, now that we can store data in lists, how can we access elements in a list? The answer is to use what is known as **indexing**.\n",
    "\n",
    "Given a list `x`, we access the ith element using the code:\n",
    "\n",
    "```\n",
    "x[i]\n",
    "```\n",
    "\n",
    "The reason we call this \"indexing\" is because the number that goes between the brackets is the **index** of the element that we want.\n",
    "\n",
    "\n",
    "\n",
    "> ⚠️ **Caution**  \n",
    "Python begins indexing at 0.\n",
    "\n",
    "\n",
    "What does this mean? Well, let's see by way of an example.\n",
    "\n",
    "### Task 2\n",
    "\n",
    "Create a list with the numbers 1 through 10, inclusive, and assign this to a variable called `x`."
   ]
  },
  {
   "cell_type": "code",
   "execution_count": null,
   "metadata": {},
   "outputs": [],
   "source": [
    "# Your code here"
   ]
  },
  {
   "cell_type": "markdown",
   "metadata": {},
   "source": [
    "Run the code `x[1]`."
   ]
  },
  {
   "cell_type": "code",
   "execution_count": null,
   "metadata": {},
   "outputs": [],
   "source": [
    "# Your code here"
   ]
  },
  {
   "cell_type": "markdown",
   "metadata": {},
   "source": [
    "Run the code `x[0]`."
   ]
  },
  {
   "cell_type": "code",
   "execution_count": null,
   "metadata": {},
   "outputs": [],
   "source": [
    "# Your code here"
   ]
  },
  {
   "cell_type": "markdown",
   "metadata": {},
   "source": [
    "So, what we would colloquially call the first element of a list, Python calls the **zeroeth** element.\n",
    "\n",
    "### Task 3\n",
    "\n",
    "Create a list called `x` that contains the elements `1`, `\"two\"`, `3.5`, `\"four\"`, and `\"five five\"`. Answer the following questions **WITHOUT** running any code, writing your answers as a comment in a code cell:\n",
    "\n",
    "1. What would be the output of `type(x)`?\n",
    "2. What would be the output of `type(x[1])`?\n",
    "3. What would be the output of `x[0]`?"
   ]
  },
  {
   "cell_type": "code",
   "execution_count": null,
   "metadata": {},
   "outputs": [],
   "source": [
    "# Create the list\n",
    "x = [1, \"two\", 3.5, \"four\", \"five five\"]\n",
    "\n",
    "# Your predictions as comments:\n",
    "# 1. type(x) would output: \n",
    "# 2. type(x[1]) would output: \n",
    "# 3. x[0] would output: "
   ]
  },
  {
   "cell_type": "markdown",
   "metadata": {},
   "source": [
    "Now, run code to verify your answers to the above three questions."
   ]
  },
  {
   "cell_type": "code",
   "execution_count": null,
   "metadata": {},
   "outputs": [],
   "source": [
    "# Verify your answers here"
   ]
  },
  {
   "cell_type": "markdown",
   "metadata": {},
   "source": [
    "## Tables\n",
    "\n",
    "Another very useful data structure in Python is that of a **table**. Python tables behave pretty much the same as the tables we've used in, say, math- they are a grid of values arranged sequentially.\n",
    "\n",
    "Tables can be created using the `Table()` function in Python, which itself comes from the `datascience` module. The general syntax of creating a table with the `Table()` function is:\n",
    "\n",
    "```python\n",
    "Table().with_columns(\n",
    "  \"\", [, , ... ],\n",
    "  \"\", [, , ... ],\n",
    "  ...\n",
    ")\n",
    "```\n",
    "\n",
    "For example:"
   ]
  },
  {
   "cell_type": "code",
   "execution_count": 1,
   "metadata": {},
   "outputs": [
    {
     "name": "stderr",
     "output_type": "stream",
     "text": [
      "/opt/conda/lib/python3.12/site-packages/datascience/maps.py:13: UserWarning: pkg_resources is deprecated as an API. See https://setuptools.pypa.io/en/latest/pkg_resources.html. The pkg_resources package is slated for removal as early as 2025-11-30. Refrain from using this package or pin to Setuptools<81.\n",
      "  import pkg_resources\n"
     ]
    },
    {
     "data": {
      "text/html": [
       "<table border=\"1\" class=\"dataframe\">\n",
       "    <thead>\n",
       "        <tr>\n",
       "            <th>Course</th> <th>Units</th> <th>Quarter</th>\n",
       "        </tr>\n",
       "    </thead>\n",
       "    <tbody>\n",
       "        <tr>\n",
       "            <td>PSTAT 5A  </td> <td>4    </td> <td>Summer </td>\n",
       "        </tr>\n",
       "        <tr>\n",
       "            <td>PSTAT 120A</td> <td>4    </td> <td>Fall   </td>\n",
       "        </tr>\n",
       "        <tr>\n",
       "            <td>PSTAT 130 </td> <td>4    </td> <td>Winter </td>\n",
       "        </tr>\n",
       "    </tbody>\n",
       "</table>"
      ],
      "text/plain": [
       "Course     | Units | Quarter\n",
       "PSTAT 5A   | 4     | Summer\n",
       "PSTAT 120A | 4     | Fall\n",
       "PSTAT 130  | 4     | Winter"
      ]
     },
     "execution_count": 1,
     "metadata": {},
     "output_type": "execute_result"
    }
   ],
   "source": [
    "# Install datascience if needed (uncomment if necessary)\n",
    "# !pip install datascience\n",
    "from datascience import *\n",
    "\n",
    "Table().with_columns(\n",
    "  \"Course\", [\"PSTAT 5A\", \"PSTAT 120A\", \"PSTAT 130\"],\n",
    "  \"Units\", [4, 4, 4],\n",
    "  \"Quarter\", [\"Summer\", \"Fall\", \"Winter\"]\n",
    ")"
   ]
  },
  {
   "cell_type": "markdown",
   "metadata": {},
   "source": [
    "There is nothing stopping us from assigning a table to a variable! For example, after running:"
   ]
  },
  {
   "cell_type": "code",
   "execution_count": 2,
   "metadata": {},
   "outputs": [
    {
     "data": {
      "text/html": [
       "<table border=\"1\" class=\"dataframe\">\n",
       "    <thead>\n",
       "        <tr>\n",
       "            <th>Course</th> <th>Units</th> <th>Instructor</th>\n",
       "        </tr>\n",
       "    </thead>\n",
       "    <tbody>\n",
       "        <tr>\n",
       "            <td>PSTAT 5A  </td> <td>4    </td> <td>Mathlouthi</td>\n",
       "        </tr>\n",
       "        <tr>\n",
       "            <td>PSTAT 120A</td> <td>4    </td> <td>Johnson   </td>\n",
       "        </tr>\n",
       "        <tr>\n",
       "            <td>PSTAT 130 </td> <td>4    </td> <td>Smith     </td>\n",
       "        </tr>\n",
       "    </tbody>\n",
       "</table>"
      ],
      "text/plain": [
       "Course     | Units | Instructor\n",
       "PSTAT 5A   | 4     | Mathlouthi\n",
       "PSTAT 120A | 4     | Johnson\n",
       "PSTAT 130  | 4     | Smith"
      ]
     },
     "execution_count": 2,
     "metadata": {},
     "output_type": "execute_result"
    }
   ],
   "source": [
    "table1 = Table().with_columns(\n",
    "  \"Course\", [\"PSTAT 5A\", \"PSTAT 120A\", \"PSTAT 130\"],\n",
    "  \"Units\", [4, 4, 4],\n",
    "  \"Instructor\", [\"Mathlouthi\", \"Johnson\", \"Smith\"]\n",
    ")\n",
    "\n",
    "table1"
   ]
  },
  {
   "cell_type": "markdown",
   "metadata": {},
   "source": [
    "### Terminology\n",
    "\n",
    "Sometimes in Python we will encounter expressions of the form:\n",
    "\n",
    "```\n",
    "<object type>.<function name>()\n",
    "```\n",
    "\n",
    "In this syntax, the function `<function name>` is said to be a **method**. For example, the function `with_columns()` is a method for the `Table` object.\n",
    "\n",
    "The `datascience` module contains a plethora of methods we can use to manage tables. For example, the `select()` method can be used to select columns by name:"
   ]
  },
  {
   "cell_type": "code",
   "execution_count": 3,
   "metadata": {},
   "outputs": [
    {
     "data": {
      "text/html": [
       "<table border=\"1\" class=\"dataframe\">\n",
       "    <thead>\n",
       "        <tr>\n",
       "            <th>Units</th>\n",
       "        </tr>\n",
       "    </thead>\n",
       "    <tbody>\n",
       "        <tr>\n",
       "            <td>4    </td>\n",
       "        </tr>\n",
       "        <tr>\n",
       "            <td>4    </td>\n",
       "        </tr>\n",
       "        <tr>\n",
       "            <td>4    </td>\n",
       "        </tr>\n",
       "    </tbody>\n",
       "</table>"
      ],
      "text/plain": [
       "Units\n",
       "4\n",
       "4\n",
       "4"
      ]
     },
     "execution_count": 3,
     "metadata": {},
     "output_type": "execute_result"
    }
   ],
   "source": [
    "table1.select(\"Units\")"
   ]
  },
  {
   "cell_type": "markdown",
   "metadata": {},
   "source": [
    "\n",
    "## Syntax\n",
    "Methods are always appended to either a function that creates a blank object type (like `Table()`) or a variable of the correct type.\n",
    "\n",
    "\n",
    "\n",
    "### Task 4\n",
    "\n",
    "Read the list of methods for Table objects at [http://data8.org/datascience/tables.html](http://data8.org/datascience/tables.html), and write down (in a code cell, using comments) at least three different methods, including a short description of what each method does. For example:"
   ]
  },
  {
   "cell_type": "code",
   "execution_count": null,
   "metadata": {},
   "outputs": [],
   "source": [
    "# .with_columns(): adds specified columns to a table.\n",
    "# Your three methods here:\n",
    "\n"
   ]
  },
  {
   "cell_type": "markdown",
   "metadata": {},
   "source": [
    "### Task 5\n",
    "\n",
    "Create the following table, and assign it to a variable called `profs`:\n",
    "\n",
    "| Professor | Office | Course |\n",
    "|-----------|--------|---------|\n",
    "| Dr. Swenson | South Hall | PSTAT 130 |\n",
    "| Dr. Wainwright | Old Gym | PSTAT 120A |\n",
    "| Dr. Mouti | Old Gym | PSTAT 126 |"
   ]
  },
  {
   "cell_type": "code",
   "execution_count": null,
   "metadata": {},
   "outputs": [],
   "source": [
    "# Your code here"
   ]
  },
  {
   "cell_type": "markdown",
   "metadata": {},
   "source": [
    "Run a cell containing only the code `profs` to make sure (visually) that your table looks correct."
   ]
  },
  {
   "cell_type": "code",
   "execution_count": null,
   "metadata": {},
   "outputs": [],
   "source": [
    "# Your code here"
   ]
  },
  {
   "cell_type": "markdown",
   "metadata": {},
   "source": [
    "Select the column called `Course` from `profs`."
   ]
  },
  {
   "cell_type": "code",
   "execution_count": null,
   "metadata": {},
   "outputs": [],
   "source": [
    "# Your code here"
   ]
  },
  {
   "cell_type": "markdown",
   "metadata": {},
   "source": [
    "Create a new table called `profs_new` that contains the same rows as the `profs` table, but with the following additional row:\n",
    "\n",
    "| Professor | Office | Course |\n",
    "|-----------|--------|---------|\n",
    "| Dr. Ravat | South Hall | PSTAT 120B |"
   ]
  },
  {
   "cell_type": "code",
   "execution_count": null,
   "metadata": {},
   "outputs": [],
   "source": [
    "# Your code here"
   ]
  },
  {
   "cell_type": "markdown",
   "metadata": {},
   "source": [
    "Run a cell containing only the code `profs_new` to make sure (visually) that the appending was successful.\n",
    "\n",
    "\n",
    "> Think about how you can use our discussion on updating variable values from last lab. Also, the method `.with_row()` may be useful; see the help file at [http://data8.org/datascience/tables.html](http://data8.org/datascience/tables.html) for more information.\n"
   ]
  },
  {
   "cell_type": "code",
   "execution_count": null,
   "metadata": {},
   "outputs": [],
   "source": [
    "# Your code here"
   ]
  },
  {
   "cell_type": "markdown",
   "metadata": {},
   "source": [
    "### Filtering Tables\n",
    "\n",
    "Suppose we want to select rows of a table that satisfy a given condition. For example, if we wanted to find the information of only courses taught by Mathlouthi in the `table1` table above, we would call:"
   ]
  },
  {
   "cell_type": "code",
   "execution_count": 4,
   "metadata": {},
   "outputs": [
    {
     "data": {
      "text/html": [
       "<table border=\"1\" class=\"dataframe\">\n",
       "    <thead>\n",
       "        <tr>\n",
       "            <th>Course</th> <th>Units</th> <th>Instructor</th>\n",
       "        </tr>\n",
       "    </thead>\n",
       "    <tbody>\n",
       "        <tr>\n",
       "            <td>PSTAT 5A</td> <td>4    </td> <td>Mathlouthi</td>\n",
       "        </tr>\n",
       "    </tbody>\n",
       "</table>"
      ],
      "text/plain": [
       "Course   | Units | Instructor\n",
       "PSTAT 5A | 4     | Mathlouthi"
      ]
     },
     "execution_count": 4,
     "metadata": {},
     "output_type": "execute_result"
    }
   ],
   "source": [
    "table1.where(\"Instructor\", \"Mathlouthi\")"
   ]
  },
  {
   "cell_type": "markdown",
   "metadata": {},
   "source": [
    "What would happen if we tried to select the rows of `table1` with \"Wilson\" in the `Instructor` column? Well, since there is nobody in `table1` named Wilson, we should hope that Python returns an empty table."
   ]
  },
  {
   "cell_type": "code",
   "execution_count": 5,
   "metadata": {},
   "outputs": [
    {
     "data": {
      "text/html": [
       "<table border=\"1\" class=\"dataframe\">\n",
       "    <thead>\n",
       "        <tr>\n",
       "            <th>Course</th> <th>Units</th> <th>Instructor</th>\n",
       "        </tr>\n",
       "    </thead>\n",
       "    <tbody>\n",
       "    </tbody>\n",
       "</table>"
      ],
      "text/plain": [
       "Course | Units | Instructor"
      ]
     },
     "execution_count": 5,
     "metadata": {},
     "output_type": "execute_result"
    }
   ],
   "source": [
    "table1.where(\"Instructor\", \"Wilson\")"
   ]
  },
  {
   "cell_type": "markdown",
   "metadata": {},
   "source": [
    "Sure enough, Python has returned an empty table!\n",
    "\n",
    "## Arrays\n",
    "\n",
    "The final Data Structure we will examine in this class is that of an **array**. Arrays behave very similarly to Tables, with a few differences. For one, the syntax used to create an array is slightly different:\n",
    "\n",
    "```\n",
    "make_array(<item 1>, <item 2>, <item 3>, ...)\n",
    "```\n",
    "\n",
    "For example:"
   ]
  },
  {
   "cell_type": "code",
   "execution_count": 6,
   "metadata": {},
   "outputs": [
    {
     "data": {
      "text/plain": [
       "array(['Spring', 'Summer', 'Autumn', 'Winter'],\n",
       "      dtype='<U6')"
      ]
     },
     "execution_count": 6,
     "metadata": {},
     "output_type": "execute_result"
    }
   ],
   "source": [
    "make_array(\"Spring\", \"Summer\", \"Autumn\", \"Winter\")"
   ]
  },
  {
   "cell_type": "markdown",
   "metadata": {},
   "source": [
    "You may ask- what's that `dtype='<U6'` symbol at the end of the output? For now, don't worry about it, as we will revisit this later.\n",
    "\n",
    "### Lists vs. Arrays\n",
    "\n",
    "So, we now know about three different data classes in Python: lists, tables, and arrays. At first glance, lists and arrays may seem somewhat similar. However, there are a few key differences between them:\n",
    "\n",
    "### Task 6\n",
    "\n",
    "Make a list called `my_list` containing the elements `1`, `2`, and `3`, and make an array called `my_array` also containing the elements `1`, `2`, and `3`. Run the following commands in separate code cells:"
   ]
  },
  {
   "cell_type": "code",
   "execution_count": 7,
   "metadata": {},
   "outputs": [],
   "source": [
    "# Create list and array\n",
    "my_list = [1, 2, 3]\n",
    "my_array = make_array(1, 2, 3)"
   ]
  },
  {
   "cell_type": "code",
   "execution_count": 8,
   "metadata": {},
   "outputs": [
    {
     "data": {
      "text/plain": [
       "6"
      ]
     },
     "execution_count": 8,
     "metadata": {},
     "output_type": "execute_result"
    }
   ],
   "source": [
    "sum(my_list)"
   ]
  },
  {
   "cell_type": "code",
   "execution_count": 9,
   "metadata": {},
   "outputs": [
    {
     "data": {
      "text/plain": [
       "6"
      ]
     },
     "execution_count": 9,
     "metadata": {},
     "output_type": "execute_result"
    }
   ],
   "source": [
    "sum(my_array)"
   ]
  },
  {
   "cell_type": "code",
   "execution_count": null,
   "metadata": {},
   "outputs": [],
   "source": [
    "# my_list + 2  # This will cause an error"
   ]
  },
  {
   "cell_type": "code",
   "execution_count": 10,
   "metadata": {},
   "outputs": [
    {
     "data": {
      "text/plain": [
       "array([3, 4, 5])"
      ]
     },
     "execution_count": 10,
     "metadata": {},
     "output_type": "execute_result"
    }
   ],
   "source": [
    "my_array + 2"
   ]
  },
  {
   "cell_type": "markdown",
   "metadata": {},
   "source": [
    "What the previous Task illustrates is the fact that **arrays lend themselves to element-wise operations**, whereas lists do not. One important limitation about arrays, though, is that the elements in an array must all be of the same data type. If you try to make an array consisting of elements that are different data types Python will still run, however it will not run in the way you expect it to!\n",
    "\n",
    "## Comparisons\n",
    "\n",
    "Here's a question: is 2 less than 3? Well, yes it is! If we wanted to confirm this, we could simply ask Python whether 2 is less than 3 by running:"
   ]
  },
  {
   "cell_type": "code",
   "execution_count": 11,
   "metadata": {},
   "outputs": [
    {
     "data": {
      "text/plain": [
       "True"
      ]
     },
     "execution_count": 11,
     "metadata": {},
     "output_type": "execute_result"
    }
   ],
   "source": [
    "2 < 3"
   ]
  },
  {
   "cell_type": "markdown",
   "metadata": {},
   "source": [
    "Notice, however, how Python answered this question: it simply returned `True`. Let's see what the data type of `True` is:"
   ]
  },
  {
   "cell_type": "code",
   "execution_count": 12,
   "metadata": {},
   "outputs": [
    {
     "data": {
      "text/plain": [
       "bool"
      ]
     },
     "execution_count": 12,
     "metadata": {},
     "output_type": "execute_result"
    }
   ],
   "source": [
    "type(True)"
   ]
  },
  {
   "cell_type": "markdown",
   "metadata": {},
   "source": [
    "`True` is of the type `bool`, which is short for **boolean**. There are only two boolean quantities in Python: `True` and `False`. Let's see how we can generate a `False` value:"
   ]
  },
  {
   "cell_type": "code",
   "execution_count": 13,
   "metadata": {},
   "outputs": [
    {
     "data": {
      "text/plain": [
       "False"
      ]
     },
     "execution_count": 13,
     "metadata": {},
     "output_type": "execute_result"
    }
   ],
   "source": [
    "3 < 2"
   ]
  },
  {
   "cell_type": "markdown",
   "metadata": {},
   "source": [
    "Here is a list of comparison operators, taken from the Inferential Thinking textbook:\n",
    "\n",
    "| Comparison | Operator | True Example | False Example |\n",
    "|------------|----------|-------------|---------------|\n",
    "| Less than | `<` | `2 < 3` | `2 < 2` |\n",
    "| Greater than | `>` | `3 > 2` | `3 > 3` |\n",
    "| Less than or equal | `<=` | `2 <= 2` | `3 <= 2` |\n",
    "| Greater than or equal | `>=` | `3 >= 3` | `2 >= 3` |\n",
    "| Equal | `==` | `3 == 3` | `3 == 2` |\n",
    "| Not equal | `!=` | `3 != 2` | `2 != 2` |\n",
    "\n",
    "One nice thing about Python is that it allows for multiple simultaneous comparisons. For example:"
   ]
  },
  {
   "cell_type": "code",
   "execution_count": 14,
   "metadata": {},
   "outputs": [
    {
     "data": {
      "text/plain": [
       "True"
      ]
     },
     "execution_count": 14,
     "metadata": {},
     "output_type": "execute_result"
    }
   ],
   "source": [
    "2 < 3 < 4"
   ]
  },
  {
   "cell_type": "markdown",
   "metadata": {},
   "source": [
    "\n",
    "> In a multiple comparison, Python will only return `True` when **all** of the included comparisons are true.\n",
    "\n",
    "\n",
    "For instance, `2 < 3 < 1` would return `False`, because even though 2 is less than 3 it is not true that 3 is less than 1.\n",
    "\n",
    "Believe it or not, you can compare strings as well! Python compares strings alphabetically; that is, letters at the beginning of the alphabet are considered to have smaller ordinal value than letters at the end of the alphabet. For example:"
   ]
  },
  {
   "cell_type": "code",
   "execution_count": 15,
   "metadata": {},
   "outputs": [
    {
     "data": {
      "text/plain": [
       "True"
      ]
     },
     "execution_count": 15,
     "metadata": {},
     "output_type": "execute_result"
    }
   ],
   "source": [
    "\"apple\" < \"banana\""
   ]
  },
  {
   "cell_type": "code",
   "execution_count": 16,
   "metadata": {},
   "outputs": [
    {
     "data": {
      "text/plain": [
       "False"
      ]
     },
     "execution_count": 16,
     "metadata": {},
     "output_type": "execute_result"
    }
   ],
   "source": [
    "\"zebra\" < \"zanzibar\""
   ]
  },
  {
   "cell_type": "code",
   "execution_count": 17,
   "metadata": {},
   "outputs": [
    {
     "data": {
      "text/plain": [
       "True"
      ]
     },
     "execution_count": 17,
     "metadata": {},
     "output_type": "execute_result"
    }
   ],
   "source": [
    "\"cat\" <= \"catenary\""
   ]
  },
  {
   "cell_type": "markdown",
   "metadata": {},
   "source": [
    "### Task 7\n",
    "\n",
    "Check how `\"statistics\"` and `\"Statistics\"` (note the capitalization!) compare. Use this to answer the question: when Python is comparing strings, does it give precedence to capital letters or not? If so, which (lowercase or capital) is given a \"higher\" value?"
   ]
  },
  {
   "cell_type": "code",
   "execution_count": null,
   "metadata": {},
   "outputs": [],
   "source": [
    "# Your code here"
   ]
  },
  {
   "cell_type": "markdown",
   "metadata": {},
   "source": [
    "### Comparing Lists and Arrays\n",
    "\n",
    "Finally, we discuss how comparisons work in the context of lists and arrays. The way Python compares lists is by what is known as **lexicographical order**. From the official Python help documentation, this means:\n",
    "\n",
    "> first the first two items are compared, and if they differ this determines the outcome of the comparison; if they are equal, the next two items are compared, and so on, until either sequence is exhausted.\n",
    "\n",
    "For instance, `[1, 2, 3] < [2, 1, 1]` would return `True` since 1 (the first element of the first list) is less than 2 (the first element of the second list).\n",
    "\n",
    "The comparison of arrays is a little more straightforward, except:\n",
    "\n",
    "\n",
    "> When comparing two arrays, the arrays must be of the same length.\n",
    "\n",
    "\n",
    "To see exactly how comparison of arrays works, let's work through a Task:\n",
    "\n",
    "### Task 8\n",
    "\n",
    "Make an array with the elements `1`, `2`, and `3`, and call this `x`. Make another array with the elements `2`, `3`, `1`, and call this `y`. Run `x < y`, and comment on the result."
   ]
  },
  {
   "cell_type": "code",
   "execution_count": null,
   "metadata": {},
   "outputs": [],
   "source": [
    "# Your code here"
   ]
  },
  {
   "cell_type": "markdown",
   "metadata": {},
   "source": [
    "What the previous task illustrates is that Python compares arrays **element-wise**.\n",
    "\n",
    "## Conditionals\n",
    "\n",
    "Now, we can use comparisons for much more than verifying simple arithmetic relationships. One of the main areas in which comparisons arise is the area of **conditional expressions**.\n",
    "\n",
    "Simply put, conditional expressions are how we can convey a set of choices to Python. As an example, let's consider finding someone's city based on their zip code. To simplify, let's assume the only zip codes we consider are 93117, 93120, and 93150. From postal data, we know that:\n",
    "\n",
    "- a zip code of 93117 corresponds to Goleta\n",
    "- a zip code of 93120 corresponds to Santa Barbara  \n",
    "- a zip code of 93150 corresponds to Montecito\n",
    "\n",
    "We can rephrase this information in terms of \"if\" statements:\n",
    "\n",
    "- **If** a person has a zip code of 93117, **then** they are in Goleta\n",
    "- **Otherwise, if** they have a zip code of 93120, **then** they are in Santa Barbara\n",
    "- **Otherwise, if** they have a zip code of 93150, **then** they are in Montecito\n",
    "\n",
    "This is precisely the syntax we would use when translating this experiment into Python syntax:"
   ]
  },
  {
   "cell_type": "code",
   "execution_count": 18,
   "metadata": {
    "editable": true,
    "slideshow": {
     "slide_type": ""
    },
    "tags": []
   },
   "outputs": [
    {
     "name": "stdout",
     "output_type": "stream",
     "text": [
      "Zip code 93117 corresponds to: Goleta\n",
      "Zip code 93117: Goleta\n",
      "Zip code 93120: Santa Barbara\n",
      "Zip code 93150: Montecito\n",
      "Zip code 99999: Unknown location\n"
     ]
    }
   ],
   "source": [
    "# Example of conditional statements with zip codes\n",
    "# First, we need to define a zip_code variable\n",
    "zip_code = 93117  # Example zip code\n",
    "\n",
    "if zip_code == 93117:\n",
    "    location = \"Goleta\"\n",
    "elif zip_code == 93120:\n",
    "    location = \"Santa Barbara\"\n",
    "elif zip_code == 93150:\n",
    "    location = \"Montecito\"\n",
    "else:\n",
    "    location = \"Unknown location\"\n",
    "\n",
    "print(f\"Zip code {zip_code} corresponds to: {location}\")\n",
    "\n",
    "# Test with different zip codes\n",
    "for test_zip in [93117, 93120, 93150, 99999]:\n",
    "    if test_zip == 93117:\n",
    "        loc = \"Goleta\"\n",
    "    elif test_zip == 93120:\n",
    "        loc = \"Santa Barbara\"\n",
    "    elif test_zip == 93150:\n",
    "        loc = \"Montecito\"\n",
    "    else:\n",
    "        loc = \"Unknown location\"\n",
    "    print(f\"Zip code {test_zip}: {loc}\")"
   ]
  },
  {
   "cell_type": "markdown",
   "metadata": {
    "editable": true,
    "slideshow": {
     "slide_type": ""
    },
    "tags": []
   },
   "source": [
    "By the way: `elif` is an abbreviation for **else if**, which itself can be thought of as equivalent to **otherwise, if**.\n",
    "\n",
    "Here's the general syntax of a conditional expression in Python:"
   ]
  },
  {
   "cell_type": "code",
   "execution_count": null,
   "metadata": {
    "editable": false,
    "slideshow": {
     "slide_type": "skip"
    },
    "tags": [
     "eval_false"
    ]
   },
   "outputs": [],
   "source": [
    "if <condition 1>:\n",
    "    <task 1>\n",
    "elif <condition 2>:\n",
    "    <task 2>\n",
    "...\n",
    "else:\n",
    "    <final task>"
   ]
  },
  {
   "cell_type": "markdown",
   "metadata": {
    "editable": true,
    "slideshow": {
     "slide_type": ""
    },
    "tags": []
   },
   "source": [
    "When executing the above conditional statement, Python first checks whether `<condition 1>` returns a value of `True` or `False`. If it returns a value of `True`, then `<task 1>` is executed and the statement ends. Otherwise, Python checks whether `<condition 2>` is `True` or `False`; if it is `True` then `<task 2>` is executed, etc.\n",
    "\n",
    "\n",
    "> In the example code above: if `<condition 1>` is `True`, then no tasks beyond `<task 1>` are evaluated. If `<condition 2>` is `True`, then no tasks beyond `<task 2>` are evaluated. And so on and so forth.\n",
    "\n",
    "\n",
    "### Task 9\n",
    "\n",
    "Consider the code:"
   ]
  },
  {
   "cell_type": "code",
   "execution_count": 22,
   "metadata": {
    "editable": true,
    "slideshow": {
     "slide_type": ""
    },
    "tags": []
   },
   "outputs": [],
   "source": [
    "x = 2\n",
    "\n",
    "if x < 2:\n",
    "    x = \"hello\"\n",
    "elif x < 3:\n",
    "    x = \"goodbye\"\n",
    "else:\n",
    "    x = \"take care\""
   ]
  },
  {
   "cell_type": "markdown",
   "metadata": {},
   "source": [
    "Before running any code, write down what you think the result of executing `x` would be. Then, run the loop, execute `x`, and check whether your answer was correct or not."
   ]
  },
  {
   "cell_type": "code",
   "execution_count": null,
   "metadata": {
    "editable": true,
    "slideshow": {
     "slide_type": ""
    },
    "tags": []
   },
   "outputs": [],
   "source": [
    "# Your prediction: \n",
    "\n",
    "# Now run the code:\n",
    "x = 2\n",
    "\n",
    "if x < 2:\n",
    "    x = \"hello\"\n",
    "elif x < 3:\n",
    "    x = \"goodbye\"\n",
    "else:\n",
    "    x = \"take care\"\n",
    "\n",
    "print(x)"
   ]
  },
  {
   "cell_type": "markdown",
   "metadata": {},
   "source": [
    "\n",
    "> ## Caution Indentation is very important in Python.\n",
    "\n",
    "\n",
    "For example, if instead of the conditional expression in Task 9 we had instead put:\n",
    "\n",
    "\n",
    "\n"
   ]
  },
  {
   "cell_type": "code",
   "execution_count": 23,
   "metadata": {
    "editable": true,
    "slideshow": {
     "slide_type": ""
    },
    "tags": []
   },
   "outputs": [
    {
     "ename": "IndentationError",
     "evalue": "expected an indented block after 'if' statement on line 3 (361143137.py, line 4)",
     "output_type": "error",
     "traceback": [
      "  \u001b[36mCell\u001b[39m\u001b[36m \u001b[39m\u001b[32mIn[23]\u001b[39m\u001b[32m, line 4\u001b[39m\n\u001b[31m    \u001b[39m\u001b[31mx = \"hello\"\u001b[39m\n    ^\n\u001b[31mIndentationError\u001b[39m\u001b[31m:\u001b[39m expected an indented block after 'if' statement on line 3\n"
     ]
    }
   ],
   "source": [
    "x = 2\n",
    "\n",
    "if x < 2:\n",
    "x = \"hello\"\n",
    "elif x < 3:\n",
    "x = \"goodbye\"\n",
    "else:\n",
    "x = \"take care\""
   ]
  },
  {
   "cell_type": "markdown",
   "metadata": {},
   "source": [
    "then we would have received an error!\n",
    "\n",
    "## Functions\n",
    "\n",
    "Finally, let's quickly discuss Python functions. We've already been using quite a few functions:\n",
    "\n",
    "### Task 10\n",
    "\n",
    "In a Markdown cell, write down three functions we've used in this Lab thus far.\n",
    "\n",
    "**Your answer here:**\n",
    "\n",
    "If you recall, the general syntax for calling a function is:\n",
    "\n",
    "```\n",
    "<function name>(<arg1>, <arg2>, ... )\n",
    "```\n",
    "\n",
    "where `<function name>` denotes the function name and `<arg1>`, `<arg2>`, etc. denote the arguments of the function.\n",
    "\n",
    "Creating your own function in Python is actually fairly simple! Here is the syntax we use:"
   ]
  },
  {
   "cell_type": "code",
   "execution_count": 2,
   "metadata": {
    "editable": false,
    "slideshow": {
     "slide_type": "skip"
    },
    "tags": [
     "eval_false"
    ]
   },
   "outputs": [],
   "source": [
    "def <function name>(<list out the argument names>):\n",
    "    \"\"\"include a 'docstring' here\"\"\"\n",
    "    <body of the function>\n",
    "    return <what you want the function to output>"
   ]
  },
  {
   "cell_type": "markdown",
   "metadata": {
    "editable": true,
    "slideshow": {
     "slide_type": ""
    },
    "tags": []
   },
   "source": [
    "For example:"
   ]
  },
  {
   "cell_type": "code",
   "execution_count": 24,
   "metadata": {
    "editable": true,
    "slideshow": {
     "slide_type": ""
    },
    "tags": []
   },
   "outputs": [],
   "source": [
    "def f(x, y):\n",
    "    \"\"\"returns x^2 + y^2\"\"\"\n",
    "    return x**2 + y**2"
   ]
  },
  {
   "cell_type": "markdown",
   "metadata": {},
   "source": [
    "creates a function `f` that can be called on two arguments, `x` and `y`, and returns the sum of squares of the arguments; e.g."
   ]
  },
  {
   "cell_type": "code",
   "execution_count": 25,
   "metadata": {
    "editable": true,
    "slideshow": {
     "slide_type": ""
    },
    "tags": []
   },
   "outputs": [
    {
     "data": {
      "text/plain": [
       "25"
      ]
     },
     "execution_count": 25,
     "metadata": {},
     "output_type": "execute_result"
    }
   ],
   "source": [
    "f(3, 4)  # should return 3^2 + 4^2 = 25"
   ]
  },
  {
   "cell_type": "markdown",
   "metadata": {},
   "source": [
    "By the way, the **docstring** referenced above is a verbal description of what the function does. (Recall from Lab1 that it is just a multi-line comment, since it is enclosed in triple quotation marks!). All functions should include a docstring to convey to the user what the function does.\n",
    "\n",
    "\n",
    "> If you don't include a `return` statement in the definition of a function, then your function will never return anything.\n",
    "\n",
    "\n",
    "For instance:"
   ]
  },
  {
   "cell_type": "code",
   "execution_count": 26,
   "metadata": {
    "editable": true,
    "slideshow": {
     "slide_type": ""
    },
    "tags": []
   },
   "outputs": [
    {
     "name": "stdout",
     "output_type": "stream",
     "text": [
      "None\n"
     ]
    }
   ],
   "source": [
    "def g(x, y):\n",
    "    \"\"\"should return x^2 + y^2\"\"\"\n",
    "    x**2 + y**2\n",
    "\n",
    "print(g(3, 4))  # This will print None!"
   ]
  },
  {
   "cell_type": "markdown",
   "metadata": {},
   "source": [
    "### Task 11\n",
    "\n",
    "Write a function called `cent_to_far()` which takes in a single temperature `c` as measured in degrees Celsius and returns the corresponding temperature in degrees Fahrenheit. Check that `cent_to_far(0)` correctly returns 32 and `cent_to_far(20)` correctly returns 68. \n",
    "\n",
    "As a reminder, the conversion formula is: F = (9/5) × C + 32"
   ]
  },
  {
   "cell_type": "code",
   "execution_count": 27,
   "metadata": {
    "editable": true,
    "slideshow": {
     "slide_type": ""
    },
    "tags": []
   },
   "outputs": [
    {
     "name": "stdout",
     "output_type": "stream",
     "text": [
      "None\n",
      "None\n"
     ]
    }
   ],
   "source": [
    "# Your code here\n",
    "def cent_to_far(c):\n",
    "    \"\"\"Convert Celsius to Fahrenheit\"\"\"\n",
    "    # Your implementation here\n",
    "    pass\n",
    "\n",
    "# Test your function\n",
    "print(cent_to_far(0))   # Should return 32\n",
    "print(cent_to_far(20))  # Should return 68"
   ]
  },
  {
   "cell_type": "markdown",
   "metadata": {},
   "source": [
    "Finally, let's combine some things by way of a concluding Task:\n",
    "\n",
    "### Task 12\n",
    "\n",
    "Write a function called `parity()` that returns the parity (i.e. whether a number is even or odd) of an input `x`. Call your `parity()` function on 2 and then 3 to make sure your function behaves as expected. Some hints:\n",
    "\n",
    "- Recall that `%` is the modulus operator in Python. Specifically, `x % y` returns the remainder of performing x divided by y.\n",
    "- Recall that even numbers are divisible by 2 (so what does this mean about the remainder of dividing x by 2 if x is even?)"
   ]
  },
  {
   "cell_type": "code",
   "execution_count": 28,
   "metadata": {
    "editable": true,
    "slideshow": {
     "slide_type": ""
    },
    "tags": []
   },
   "outputs": [
    {
     "name": "stdout",
     "output_type": "stream",
     "text": [
      "None\n",
      "None\n"
     ]
    }
   ],
   "source": [
    "# Your code here\n",
    "def parity(x):\n",
    "    \"\"\"Returns 'even' if x is even, 'odd' if x is odd\"\"\"\n",
    "    # Your implementation here\n",
    "    pass\n",
    "\n",
    "# Test your function\n",
    "print(parity(2))  # Should return 'even'\n",
    "print(parity(3))  # Should return 'odd'"
   ]
  },
  {
   "cell_type": "markdown",
   "metadata": {},
   "source": [
    "---\n",
    "\n",
    "## Summary\n",
    "\n",
    "In this lab, you've learned about:\n",
    "\n",
    "- **Lists**: Ordered collections that can contain mixed data types\n",
    "- **Indexing**: Accessing elements using zero-based indexing\n",
    "- **Tables**: Structured data with named columns using the datascience module\n",
    "- **Arrays**: Homogeneous collections that support element-wise operations\n",
    "- **Comparisons**: Boolean operations and comparison operators\n",
    "- **Conditionals**: if/elif/else statements for decision making\n",
    "- **Functions**: Creating reusable code blocks with def statements\n",
    "\n",
    "These are fundamental building blocks that will be essential for the rest of the course!"
   ]
  }
 ],
 "metadata": {
  "kernelspec": {
   "display_name": "Python 3 (ipykernel)",
   "language": "python",
   "name": "python3"
  },
  "language_info": {
   "codemirror_mode": {
    "name": "ipython",
    "version": 3
   },
   "file_extension": ".py",
   "mimetype": "text/x-python",
   "name": "python",
   "nbconvert_exporter": "python",
   "pygments_lexer": "ipython3",
   "version": "3.12.11"
  }
 },
 "nbformat": 4,
 "nbformat_minor": 4
}
